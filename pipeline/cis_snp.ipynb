{
 "cells": [
  {
   "cell_type": "code",
   "execution_count": 4,
   "metadata": {
    "collapsed": true
   },
   "outputs": [],
   "source": [
    "library(snpStats)\n",
    "library(TCA)\n",
    "library(pracma)\n",
    "library(matrixcalc)\n",
    "library(Smisc)\n",
    "library(stats)"
   ]
  },
  {
   "cell_type": "code",
   "execution_count": 7,
   "metadata": {},
   "outputs": [
    {
     "name": "stderr",
     "output_type": "stream",
     "text": [
      "Warning message in .local(x, i, j, ..., drop):\n",
      "“Output  SnpMatrix has more than 2^31-1 elements. Many functions do not support such objects”"
     ]
    }
   ],
   "source": [
    "snp_path1 = '/u/project/sriram/bjew/dutch/GenomTranscriptomTwinsMD_c1'\n",
    "# snp_path = '/u/home/q/qmaai/project-sriram/tca-twas/data/original_data_copy/plink'\n",
    "snp_path = '/u/home/q/qmaai/project-sriram/tca-twas/data/pruned_data/dutch_filted_individual_ld_pruned'\n",
    "read_snp <- function(snp_path,select.snps){\n",
    "    snps = read.plink(snp_path)\n",
    "    wrong_snps = rownames(snps$map[snps$map$chromosome>23,])\n",
    "    snps$genotypes = snps$genotypes[,!(colnames(snps$genotypes) %in% wrong_snps)]\n",
    "    #snps$genotype = apply(snps$genotype,2,as.integer)\n",
    "    snps$map = snps$map[snps$map$chromosome<24,]\n",
    "    return(snps)\n",
    "}\n",
    "snps = read_snp(snp_path)\n",
    "snps1_ = read_snp(snp_path1)"
   ]
  },
  {
   "cell_type": "code",
   "execution_count": 22,
   "metadata": {},
   "outputs": [
    {
     "data": {
      "text/html": [
       "<ol class=list-inline>\n",
       "\t<li>5061</li>\n",
       "\t<li>801501</li>\n",
       "</ol>\n"
      ],
      "text/latex": [
       "\\begin{enumerate*}\n",
       "\\item 5061\n",
       "\\item 801501\n",
       "\\end{enumerate*}\n"
      ],
      "text/markdown": [
       "1. 5061\n",
       "2. 801501\n",
       "\n",
       "\n"
      ],
      "text/plain": [
       "[1]   5061 801501"
      ]
     },
     "metadata": {},
     "output_type": "display_data"
    },
    {
     "data": {
      "text/html": [
       "<ol class=list-inline>\n",
       "\t<li>1464</li>\n",
       "\t<li>319354</li>\n",
       "</ol>\n"
      ],
      "text/latex": [
       "\\begin{enumerate*}\n",
       "\\item 1464\n",
       "\\item 319354\n",
       "\\end{enumerate*}\n"
      ],
      "text/markdown": [
       "1. 1464\n",
       "2. 319354\n",
       "\n",
       "\n"
      ],
      "text/plain": [
       "[1]   1464 319354"
      ]
     },
     "metadata": {},
     "output_type": "display_data"
    },
    {
     "data": {
      "text/html": [
       "<ol class=list-inline>\n",
       "\t<li>1464</li>\n",
       "\t<li>5</li>\n",
       "</ol>\n"
      ],
      "text/latex": [
       "\\begin{enumerate*}\n",
       "\\item 1464\n",
       "\\item 5\n",
       "\\end{enumerate*}\n"
      ],
      "text/markdown": [
       "1. 1464\n",
       "2. 5\n",
       "\n",
       "\n"
      ],
      "text/plain": [
       "[1] 1464    5"
      ]
     },
     "metadata": {},
     "output_type": "display_data"
    },
    {
     "data": {
      "text/html": [
       "<ol class=list-inline>\n",
       "\t<li>10201</li>\n",
       "\t<li>3</li>\n",
       "</ol>\n"
      ],
      "text/latex": [
       "\\begin{enumerate*}\n",
       "\\item 10201\n",
       "\\item 3\n",
       "\\end{enumerate*}\n"
      ],
      "text/markdown": [
       "1. 10201\n",
       "2. 3\n",
       "\n",
       "\n"
      ],
      "text/plain": [
       "[1] 10201     3"
      ]
     },
     "metadata": {},
     "output_type": "display_data"
    },
    {
     "data": {
      "text/html": [
       "<ol class=list-inline>\n",
       "\t<li>10201</li>\n",
       "\t<li>1464</li>\n",
       "</ol>\n"
      ],
      "text/latex": [
       "\\begin{enumerate*}\n",
       "\\item 10201\n",
       "\\item 1464\n",
       "\\end{enumerate*}\n"
      ],
      "text/markdown": [
       "1. 10201\n",
       "2. 1464\n",
       "\n",
       "\n"
      ],
      "text/plain": [
       "[1] 10201  1464"
      ]
     },
     "metadata": {},
     "output_type": "display_data"
    }
   ],
   "source": [
    "dim(snps1_$genotype)\n",
    "dim(snps$genotype)\n",
    "dim(prop)\n",
    "dim(geno_locs)\n",
    "dim(ge)"
   ]
  },
  {
   "cell_type": "code",
   "execution_count": 23,
   "metadata": {
    "collapsed": true
   },
   "outputs": [
    {
     "data": {
      "text/html": [
       "<table>\n",
       "<caption>A data.frame: 1464 × 5</caption>\n",
       "<thead>\n",
       "\t<tr><th></th><th scope=col>neutn</th><th scope=col>lympn</th><th scope=col>monon</th><th scope=col>eosn</th><th scope=col>bason</th></tr>\n",
       "\t<tr><th></th><th scope=col>&lt;dbl&gt;</th><th scope=col>&lt;dbl&gt;</th><th scope=col>&lt;dbl&gt;</th><th scope=col>&lt;dbl&gt;</th><th scope=col>&lt;dbl&gt;</th></tr>\n",
       "</thead>\n",
       "<tbody>\n",
       "\t<tr><th scope=row>51143</th><td>0.5858586</td><td>0.3030303</td><td>0.06060606</td><td>0.04040404</td><td>0.01010101</td></tr>\n",
       "\t<tr><th scope=row>51146</th><td>0.7700000</td><td>0.1300000</td><td>0.09000000</td><td>0.01000000</td><td>0.00000000</td></tr>\n",
       "\t<tr><th scope=row>51150</th><td>0.4200000</td><td>0.4400000</td><td>0.10000000</td><td>0.03000000</td><td>0.01000000</td></tr>\n",
       "\t<tr><th scope=row>51160</th><td>0.6200000</td><td>0.2200000</td><td>0.11000000</td><td>0.04000000</td><td>0.01000000</td></tr>\n",
       "\t<tr><th scope=row>51163</th><td>0.4700000</td><td>0.3900000</td><td>0.11000000</td><td>0.03000000</td><td>0.00000000</td></tr>\n",
       "\t<tr><th scope=row>51167</th><td>0.6200000</td><td>0.2700000</td><td>0.08000000</td><td>0.02000000</td><td>0.01000000</td></tr>\n",
       "\t<tr><th scope=row>51169</th><td>0.4700000</td><td>0.4200000</td><td>0.07000000</td><td>0.03000000</td><td>0.01000000</td></tr>\n",
       "\t<tr><th scope=row>51170</th><td>0.4554455</td><td>0.4257426</td><td>0.06930693</td><td>0.03960396</td><td>0.00990099</td></tr>\n",
       "\t<tr><th scope=row>51172</th><td>0.5500000</td><td>0.3100000</td><td>0.09000000</td><td>0.05000000</td><td>0.00000000</td></tr>\n",
       "\t<tr><th scope=row>51173</th><td>0.5600000</td><td>0.3100000</td><td>0.09000000</td><td>0.03000000</td><td>0.01000000</td></tr>\n",
       "\t<tr><th scope=row>51180</th><td>0.5000000</td><td>0.3500000</td><td>0.10000000</td><td>0.05000000</td><td>0.00000000</td></tr>\n",
       "\t<tr><th scope=row>51183</th><td>0.5100000</td><td>0.3700000</td><td>0.09000000</td><td>0.03000000</td><td>0.00000000</td></tr>\n",
       "\t<tr><th scope=row>51186</th><td>0.4000000</td><td>0.5000000</td><td>0.06000000</td><td>0.03000000</td><td>0.01000000</td></tr>\n",
       "\t<tr><th scope=row>51192</th><td>0.5000000</td><td>0.4000000</td><td>0.07000000</td><td>0.02000000</td><td>0.01000000</td></tr>\n",
       "\t<tr><th scope=row>51195</th><td>0.4646465</td><td>0.3939394</td><td>0.09090909</td><td>0.05050505</td><td>0.00000000</td></tr>\n",
       "\t<tr><th scope=row>51198</th><td>0.6500000</td><td>0.2600000</td><td>0.06000000</td><td>0.02000000</td><td>0.01000000</td></tr>\n",
       "\t<tr><th scope=row>51201</th><td>0.5656566</td><td>0.3535354</td><td>0.05050505</td><td>0.03030303</td><td>0.00000000</td></tr>\n",
       "\t<tr><th scope=row>51202</th><td>0.4257426</td><td>0.4455446</td><td>0.08910891</td><td>0.02970297</td><td>0.00990099</td></tr>\n",
       "\t<tr><th scope=row>51204</th><td>0.4600000</td><td>0.4400000</td><td>0.08000000</td><td>0.01000000</td><td>0.01000000</td></tr>\n",
       "\t<tr><th scope=row>51209</th><td>0.5000000</td><td>0.3700000</td><td>0.10000000</td><td>0.03000000</td><td>0.00000000</td></tr>\n",
       "\t<tr><th scope=row>51210</th><td>0.4100000</td><td>0.4900000</td><td>0.07000000</td><td>0.02000000</td><td>0.01000000</td></tr>\n",
       "\t<tr><th scope=row>51217</th><td>0.5100000</td><td>0.4000000</td><td>0.06000000</td><td>0.03000000</td><td>0.00000000</td></tr>\n",
       "\t<tr><th scope=row>51222</th><td>0.5050505</td><td>0.3636364</td><td>0.09090909</td><td>0.03030303</td><td>0.01010101</td></tr>\n",
       "\t<tr><th scope=row>51230</th><td>0.6200000</td><td>0.2900000</td><td>0.06000000</td><td>0.02000000</td><td>0.01000000</td></tr>\n",
       "\t<tr><th scope=row>51236</th><td>0.4900000</td><td>0.3600000</td><td>0.09000000</td><td>0.05000000</td><td>0.01000000</td></tr>\n",
       "\t<tr><th scope=row>51239</th><td>0.6100000</td><td>0.2600000</td><td>0.08000000</td><td>0.04000000</td><td>0.01000000</td></tr>\n",
       "\t<tr><th scope=row>51254</th><td>0.6060606</td><td>0.2929293</td><td>0.08080808</td><td>0.02020202</td><td>0.00000000</td></tr>\n",
       "\t<tr><th scope=row>51274</th><td>0.4851485</td><td>0.3663366</td><td>0.08910891</td><td>0.03960396</td><td>0.01980198</td></tr>\n",
       "\t<tr><th scope=row>51278</th><td>0.5247525</td><td>0.3564356</td><td>0.07920792</td><td>0.02970297</td><td>0.00990099</td></tr>\n",
       "\t<tr><th scope=row>51282</th><td>0.6138614</td><td>0.2574257</td><td>0.07920792</td><td>0.03960396</td><td>0.00990099</td></tr>\n",
       "\t<tr><th scope=row>⋮</th><td>⋮</td><td>⋮</td><td>⋮</td><td>⋮</td><td>⋮</td></tr>\n",
       "\t<tr><th scope=row>83317</th><td>0.6428571</td><td>0.2571429</td><td>0.07142857</td><td>0.02857143</td><td>0.00000000</td></tr>\n",
       "\t<tr><th scope=row>83320</th><td>0.5000000</td><td>0.3076923</td><td>0.09615385</td><td>0.01923077</td><td>0.07692308</td></tr>\n",
       "\t<tr><th scope=row>83323</th><td>0.5161290</td><td>0.3548387</td><td>0.06451613</td><td>0.06451613</td><td>0.00000000</td></tr>\n",
       "\t<tr><th scope=row>83324</th><td>0.5113636</td><td>0.3977273</td><td>0.05681818</td><td>0.02272727</td><td>0.01136364</td></tr>\n",
       "\t<tr><th scope=row>83327</th><td>0.6288660</td><td>0.2783505</td><td>0.07216495</td><td>0.02061856</td><td>0.00000000</td></tr>\n",
       "\t<tr><th scope=row>83328</th><td>0.5303030</td><td>0.3484848</td><td>0.09090909</td><td>0.03030303</td><td>0.00000000</td></tr>\n",
       "\t<tr><th scope=row>83330</th><td>0.5573770</td><td>0.2786885</td><td>0.09836066</td><td>0.03278689</td><td>0.03278689</td></tr>\n",
       "\t<tr><th scope=row>83333</th><td>0.3518519</td><td>0.4629630</td><td>0.12962963</td><td>0.05555556</td><td>0.00000000</td></tr>\n",
       "\t<tr><th scope=row>83335</th><td>0.3888889</td><td>0.4861111</td><td>0.08333333</td><td>0.04166667</td><td>0.00000000</td></tr>\n",
       "\t<tr><th scope=row>83337</th><td>0.4897959</td><td>0.4081633</td><td>0.08163265</td><td>0.02040816</td><td>0.00000000</td></tr>\n",
       "\t<tr><th scope=row>83339</th><td>0.5466667</td><td>0.2933333</td><td>0.05333333</td><td>0.10666667</td><td>0.00000000</td></tr>\n",
       "\t<tr><th scope=row>83341</th><td>0.4561404</td><td>0.3859649</td><td>0.05263158</td><td>0.05263158</td><td>0.05263158</td></tr>\n",
       "\t<tr><th scope=row>83343</th><td>0.4833333</td><td>0.3666667</td><td>0.10000000</td><td>0.05000000</td><td>0.00000000</td></tr>\n",
       "\t<tr><th scope=row>83345</th><td>0.5500000</td><td>0.3166667</td><td>0.10000000</td><td>0.03333333</td><td>0.00000000</td></tr>\n",
       "\t<tr><th scope=row>83347</th><td>0.5192308</td><td>0.3653846</td><td>0.09615385</td><td>0.01923077</td><td>0.00000000</td></tr>\n",
       "\t<tr><th scope=row>83349</th><td>0.5098039</td><td>0.3529412</td><td>0.09803922</td><td>0.03921569</td><td>0.00000000</td></tr>\n",
       "\t<tr><th scope=row>83351</th><td>0.6093750</td><td>0.2968750</td><td>0.09375000</td><td>0.00000000</td><td>0.00000000</td></tr>\n",
       "\t<tr><th scope=row>83353</th><td>0.4464286</td><td>0.4107143</td><td>0.08928571</td><td>0.03571429</td><td>0.01785714</td></tr>\n",
       "\t<tr><th scope=row>83356</th><td>0.5492958</td><td>0.3098592</td><td>0.08450704</td><td>0.05633803</td><td>0.00000000</td></tr>\n",
       "\t<tr><th scope=row>83358</th><td>0.3866667</td><td>0.4800000</td><td>0.10666667</td><td>0.02666667</td><td>0.00000000</td></tr>\n",
       "\t<tr><th scope=row>83361</th><td>0.3225806</td><td>0.4838710</td><td>0.12903226</td><td>0.06451613</td><td>0.00000000</td></tr>\n",
       "\t<tr><th scope=row>83362</th><td>0.4457831</td><td>0.4096386</td><td>0.09638554</td><td>0.03614458</td><td>0.01204819</td></tr>\n",
       "\t<tr><th scope=row>83365</th><td>0.6597938</td><td>0.2680412</td><td>0.05154639</td><td>0.02061856</td><td>0.00000000</td></tr>\n",
       "\t<tr><th scope=row>83367</th><td>0.6153846</td><td>0.2692308</td><td>0.05769231</td><td>0.01923077</td><td>0.03846154</td></tr>\n",
       "\t<tr><th scope=row>83369</th><td>0.6136364</td><td>0.2500000</td><td>0.10227273</td><td>0.03409091</td><td>0.00000000</td></tr>\n",
       "\t<tr><th scope=row>83372</th><td>0.4651163</td><td>0.3488372</td><td>0.09302326</td><td>0.06976744</td><td>0.02325581</td></tr>\n",
       "\t<tr><th scope=row>83374</th><td>0.5111111</td><td>0.3555556</td><td>0.08888889</td><td>0.04444444</td><td>0.00000000</td></tr>\n",
       "\t<tr><th scope=row>83377</th><td>0.5645161</td><td>0.3225806</td><td>0.08064516</td><td>0.03225806</td><td>0.00000000</td></tr>\n",
       "\t<tr><th scope=row>83381</th><td>0.6060606</td><td>0.2878788</td><td>0.09090909</td><td>0.01515152</td><td>0.00000000</td></tr>\n",
       "\t<tr><th scope=row>83386</th><td>0.5000000</td><td>0.3714286</td><td>0.10000000</td><td>0.02857143</td><td>0.00000000</td></tr>\n",
       "</tbody>\n",
       "</table>\n"
      ],
      "text/latex": [
       "A data.frame: 1464 × 5\n",
       "\\begin{tabular}{r|lllll}\n",
       "  & neutn & lympn & monon & eosn & bason\\\\\n",
       "  & <dbl> & <dbl> & <dbl> & <dbl> & <dbl>\\\\\n",
       "\\hline\n",
       "\t51143 & 0.5858586 & 0.3030303 & 0.06060606 & 0.04040404 & 0.01010101\\\\\n",
       "\t51146 & 0.7700000 & 0.1300000 & 0.09000000 & 0.01000000 & 0.00000000\\\\\n",
       "\t51150 & 0.4200000 & 0.4400000 & 0.10000000 & 0.03000000 & 0.01000000\\\\\n",
       "\t51160 & 0.6200000 & 0.2200000 & 0.11000000 & 0.04000000 & 0.01000000\\\\\n",
       "\t51163 & 0.4700000 & 0.3900000 & 0.11000000 & 0.03000000 & 0.00000000\\\\\n",
       "\t51167 & 0.6200000 & 0.2700000 & 0.08000000 & 0.02000000 & 0.01000000\\\\\n",
       "\t51169 & 0.4700000 & 0.4200000 & 0.07000000 & 0.03000000 & 0.01000000\\\\\n",
       "\t51170 & 0.4554455 & 0.4257426 & 0.06930693 & 0.03960396 & 0.00990099\\\\\n",
       "\t51172 & 0.5500000 & 0.3100000 & 0.09000000 & 0.05000000 & 0.00000000\\\\\n",
       "\t51173 & 0.5600000 & 0.3100000 & 0.09000000 & 0.03000000 & 0.01000000\\\\\n",
       "\t51180 & 0.5000000 & 0.3500000 & 0.10000000 & 0.05000000 & 0.00000000\\\\\n",
       "\t51183 & 0.5100000 & 0.3700000 & 0.09000000 & 0.03000000 & 0.00000000\\\\\n",
       "\t51186 & 0.4000000 & 0.5000000 & 0.06000000 & 0.03000000 & 0.01000000\\\\\n",
       "\t51192 & 0.5000000 & 0.4000000 & 0.07000000 & 0.02000000 & 0.01000000\\\\\n",
       "\t51195 & 0.4646465 & 0.3939394 & 0.09090909 & 0.05050505 & 0.00000000\\\\\n",
       "\t51198 & 0.6500000 & 0.2600000 & 0.06000000 & 0.02000000 & 0.01000000\\\\\n",
       "\t51201 & 0.5656566 & 0.3535354 & 0.05050505 & 0.03030303 & 0.00000000\\\\\n",
       "\t51202 & 0.4257426 & 0.4455446 & 0.08910891 & 0.02970297 & 0.00990099\\\\\n",
       "\t51204 & 0.4600000 & 0.4400000 & 0.08000000 & 0.01000000 & 0.01000000\\\\\n",
       "\t51209 & 0.5000000 & 0.3700000 & 0.10000000 & 0.03000000 & 0.00000000\\\\\n",
       "\t51210 & 0.4100000 & 0.4900000 & 0.07000000 & 0.02000000 & 0.01000000\\\\\n",
       "\t51217 & 0.5100000 & 0.4000000 & 0.06000000 & 0.03000000 & 0.00000000\\\\\n",
       "\t51222 & 0.5050505 & 0.3636364 & 0.09090909 & 0.03030303 & 0.01010101\\\\\n",
       "\t51230 & 0.6200000 & 0.2900000 & 0.06000000 & 0.02000000 & 0.01000000\\\\\n",
       "\t51236 & 0.4900000 & 0.3600000 & 0.09000000 & 0.05000000 & 0.01000000\\\\\n",
       "\t51239 & 0.6100000 & 0.2600000 & 0.08000000 & 0.04000000 & 0.01000000\\\\\n",
       "\t51254 & 0.6060606 & 0.2929293 & 0.08080808 & 0.02020202 & 0.00000000\\\\\n",
       "\t51274 & 0.4851485 & 0.3663366 & 0.08910891 & 0.03960396 & 0.01980198\\\\\n",
       "\t51278 & 0.5247525 & 0.3564356 & 0.07920792 & 0.02970297 & 0.00990099\\\\\n",
       "\t51282 & 0.6138614 & 0.2574257 & 0.07920792 & 0.03960396 & 0.00990099\\\\\n",
       "\t⋮ & ⋮ & ⋮ & ⋮ & ⋮ & ⋮\\\\\n",
       "\t83317 & 0.6428571 & 0.2571429 & 0.07142857 & 0.02857143 & 0.00000000\\\\\n",
       "\t83320 & 0.5000000 & 0.3076923 & 0.09615385 & 0.01923077 & 0.07692308\\\\\n",
       "\t83323 & 0.5161290 & 0.3548387 & 0.06451613 & 0.06451613 & 0.00000000\\\\\n",
       "\t83324 & 0.5113636 & 0.3977273 & 0.05681818 & 0.02272727 & 0.01136364\\\\\n",
       "\t83327 & 0.6288660 & 0.2783505 & 0.07216495 & 0.02061856 & 0.00000000\\\\\n",
       "\t83328 & 0.5303030 & 0.3484848 & 0.09090909 & 0.03030303 & 0.00000000\\\\\n",
       "\t83330 & 0.5573770 & 0.2786885 & 0.09836066 & 0.03278689 & 0.03278689\\\\\n",
       "\t83333 & 0.3518519 & 0.4629630 & 0.12962963 & 0.05555556 & 0.00000000\\\\\n",
       "\t83335 & 0.3888889 & 0.4861111 & 0.08333333 & 0.04166667 & 0.00000000\\\\\n",
       "\t83337 & 0.4897959 & 0.4081633 & 0.08163265 & 0.02040816 & 0.00000000\\\\\n",
       "\t83339 & 0.5466667 & 0.2933333 & 0.05333333 & 0.10666667 & 0.00000000\\\\\n",
       "\t83341 & 0.4561404 & 0.3859649 & 0.05263158 & 0.05263158 & 0.05263158\\\\\n",
       "\t83343 & 0.4833333 & 0.3666667 & 0.10000000 & 0.05000000 & 0.00000000\\\\\n",
       "\t83345 & 0.5500000 & 0.3166667 & 0.10000000 & 0.03333333 & 0.00000000\\\\\n",
       "\t83347 & 0.5192308 & 0.3653846 & 0.09615385 & 0.01923077 & 0.00000000\\\\\n",
       "\t83349 & 0.5098039 & 0.3529412 & 0.09803922 & 0.03921569 & 0.00000000\\\\\n",
       "\t83351 & 0.6093750 & 0.2968750 & 0.09375000 & 0.00000000 & 0.00000000\\\\\n",
       "\t83353 & 0.4464286 & 0.4107143 & 0.08928571 & 0.03571429 & 0.01785714\\\\\n",
       "\t83356 & 0.5492958 & 0.3098592 & 0.08450704 & 0.05633803 & 0.00000000\\\\\n",
       "\t83358 & 0.3866667 & 0.4800000 & 0.10666667 & 0.02666667 & 0.00000000\\\\\n",
       "\t83361 & 0.3225806 & 0.4838710 & 0.12903226 & 0.06451613 & 0.00000000\\\\\n",
       "\t83362 & 0.4457831 & 0.4096386 & 0.09638554 & 0.03614458 & 0.01204819\\\\\n",
       "\t83365 & 0.6597938 & 0.2680412 & 0.05154639 & 0.02061856 & 0.00000000\\\\\n",
       "\t83367 & 0.6153846 & 0.2692308 & 0.05769231 & 0.01923077 & 0.03846154\\\\\n",
       "\t83369 & 0.6136364 & 0.2500000 & 0.10227273 & 0.03409091 & 0.00000000\\\\\n",
       "\t83372 & 0.4651163 & 0.3488372 & 0.09302326 & 0.06976744 & 0.02325581\\\\\n",
       "\t83374 & 0.5111111 & 0.3555556 & 0.08888889 & 0.04444444 & 0.00000000\\\\\n",
       "\t83377 & 0.5645161 & 0.3225806 & 0.08064516 & 0.03225806 & 0.00000000\\\\\n",
       "\t83381 & 0.6060606 & 0.2878788 & 0.09090909 & 0.01515152 & 0.00000000\\\\\n",
       "\t83386 & 0.5000000 & 0.3714286 & 0.10000000 & 0.02857143 & 0.00000000\\\\\n",
       "\\end{tabular}\n"
      ],
      "text/markdown": [
       "\n",
       "A data.frame: 1464 × 5\n",
       "\n",
       "| <!--/--> | neutn &lt;dbl&gt; | lympn &lt;dbl&gt; | monon &lt;dbl&gt; | eosn &lt;dbl&gt; | bason &lt;dbl&gt; |\n",
       "|---|---|---|---|---|---|\n",
       "| 51143 | 0.5858586 | 0.3030303 | 0.06060606 | 0.04040404 | 0.01010101 |\n",
       "| 51146 | 0.7700000 | 0.1300000 | 0.09000000 | 0.01000000 | 0.00000000 |\n",
       "| 51150 | 0.4200000 | 0.4400000 | 0.10000000 | 0.03000000 | 0.01000000 |\n",
       "| 51160 | 0.6200000 | 0.2200000 | 0.11000000 | 0.04000000 | 0.01000000 |\n",
       "| 51163 | 0.4700000 | 0.3900000 | 0.11000000 | 0.03000000 | 0.00000000 |\n",
       "| 51167 | 0.6200000 | 0.2700000 | 0.08000000 | 0.02000000 | 0.01000000 |\n",
       "| 51169 | 0.4700000 | 0.4200000 | 0.07000000 | 0.03000000 | 0.01000000 |\n",
       "| 51170 | 0.4554455 | 0.4257426 | 0.06930693 | 0.03960396 | 0.00990099 |\n",
       "| 51172 | 0.5500000 | 0.3100000 | 0.09000000 | 0.05000000 | 0.00000000 |\n",
       "| 51173 | 0.5600000 | 0.3100000 | 0.09000000 | 0.03000000 | 0.01000000 |\n",
       "| 51180 | 0.5000000 | 0.3500000 | 0.10000000 | 0.05000000 | 0.00000000 |\n",
       "| 51183 | 0.5100000 | 0.3700000 | 0.09000000 | 0.03000000 | 0.00000000 |\n",
       "| 51186 | 0.4000000 | 0.5000000 | 0.06000000 | 0.03000000 | 0.01000000 |\n",
       "| 51192 | 0.5000000 | 0.4000000 | 0.07000000 | 0.02000000 | 0.01000000 |\n",
       "| 51195 | 0.4646465 | 0.3939394 | 0.09090909 | 0.05050505 | 0.00000000 |\n",
       "| 51198 | 0.6500000 | 0.2600000 | 0.06000000 | 0.02000000 | 0.01000000 |\n",
       "| 51201 | 0.5656566 | 0.3535354 | 0.05050505 | 0.03030303 | 0.00000000 |\n",
       "| 51202 | 0.4257426 | 0.4455446 | 0.08910891 | 0.02970297 | 0.00990099 |\n",
       "| 51204 | 0.4600000 | 0.4400000 | 0.08000000 | 0.01000000 | 0.01000000 |\n",
       "| 51209 | 0.5000000 | 0.3700000 | 0.10000000 | 0.03000000 | 0.00000000 |\n",
       "| 51210 | 0.4100000 | 0.4900000 | 0.07000000 | 0.02000000 | 0.01000000 |\n",
       "| 51217 | 0.5100000 | 0.4000000 | 0.06000000 | 0.03000000 | 0.00000000 |\n",
       "| 51222 | 0.5050505 | 0.3636364 | 0.09090909 | 0.03030303 | 0.01010101 |\n",
       "| 51230 | 0.6200000 | 0.2900000 | 0.06000000 | 0.02000000 | 0.01000000 |\n",
       "| 51236 | 0.4900000 | 0.3600000 | 0.09000000 | 0.05000000 | 0.01000000 |\n",
       "| 51239 | 0.6100000 | 0.2600000 | 0.08000000 | 0.04000000 | 0.01000000 |\n",
       "| 51254 | 0.6060606 | 0.2929293 | 0.08080808 | 0.02020202 | 0.00000000 |\n",
       "| 51274 | 0.4851485 | 0.3663366 | 0.08910891 | 0.03960396 | 0.01980198 |\n",
       "| 51278 | 0.5247525 | 0.3564356 | 0.07920792 | 0.02970297 | 0.00990099 |\n",
       "| 51282 | 0.6138614 | 0.2574257 | 0.07920792 | 0.03960396 | 0.00990099 |\n",
       "| ⋮ | ⋮ | ⋮ | ⋮ | ⋮ | ⋮ |\n",
       "| 83317 | 0.6428571 | 0.2571429 | 0.07142857 | 0.02857143 | 0.00000000 |\n",
       "| 83320 | 0.5000000 | 0.3076923 | 0.09615385 | 0.01923077 | 0.07692308 |\n",
       "| 83323 | 0.5161290 | 0.3548387 | 0.06451613 | 0.06451613 | 0.00000000 |\n",
       "| 83324 | 0.5113636 | 0.3977273 | 0.05681818 | 0.02272727 | 0.01136364 |\n",
       "| 83327 | 0.6288660 | 0.2783505 | 0.07216495 | 0.02061856 | 0.00000000 |\n",
       "| 83328 | 0.5303030 | 0.3484848 | 0.09090909 | 0.03030303 | 0.00000000 |\n",
       "| 83330 | 0.5573770 | 0.2786885 | 0.09836066 | 0.03278689 | 0.03278689 |\n",
       "| 83333 | 0.3518519 | 0.4629630 | 0.12962963 | 0.05555556 | 0.00000000 |\n",
       "| 83335 | 0.3888889 | 0.4861111 | 0.08333333 | 0.04166667 | 0.00000000 |\n",
       "| 83337 | 0.4897959 | 0.4081633 | 0.08163265 | 0.02040816 | 0.00000000 |\n",
       "| 83339 | 0.5466667 | 0.2933333 | 0.05333333 | 0.10666667 | 0.00000000 |\n",
       "| 83341 | 0.4561404 | 0.3859649 | 0.05263158 | 0.05263158 | 0.05263158 |\n",
       "| 83343 | 0.4833333 | 0.3666667 | 0.10000000 | 0.05000000 | 0.00000000 |\n",
       "| 83345 | 0.5500000 | 0.3166667 | 0.10000000 | 0.03333333 | 0.00000000 |\n",
       "| 83347 | 0.5192308 | 0.3653846 | 0.09615385 | 0.01923077 | 0.00000000 |\n",
       "| 83349 | 0.5098039 | 0.3529412 | 0.09803922 | 0.03921569 | 0.00000000 |\n",
       "| 83351 | 0.6093750 | 0.2968750 | 0.09375000 | 0.00000000 | 0.00000000 |\n",
       "| 83353 | 0.4464286 | 0.4107143 | 0.08928571 | 0.03571429 | 0.01785714 |\n",
       "| 83356 | 0.5492958 | 0.3098592 | 0.08450704 | 0.05633803 | 0.00000000 |\n",
       "| 83358 | 0.3866667 | 0.4800000 | 0.10666667 | 0.02666667 | 0.00000000 |\n",
       "| 83361 | 0.3225806 | 0.4838710 | 0.12903226 | 0.06451613 | 0.00000000 |\n",
       "| 83362 | 0.4457831 | 0.4096386 | 0.09638554 | 0.03614458 | 0.01204819 |\n",
       "| 83365 | 0.6597938 | 0.2680412 | 0.05154639 | 0.02061856 | 0.00000000 |\n",
       "| 83367 | 0.6153846 | 0.2692308 | 0.05769231 | 0.01923077 | 0.03846154 |\n",
       "| 83369 | 0.6136364 | 0.2500000 | 0.10227273 | 0.03409091 | 0.00000000 |\n",
       "| 83372 | 0.4651163 | 0.3488372 | 0.09302326 | 0.06976744 | 0.02325581 |\n",
       "| 83374 | 0.5111111 | 0.3555556 | 0.08888889 | 0.04444444 | 0.00000000 |\n",
       "| 83377 | 0.5645161 | 0.3225806 | 0.08064516 | 0.03225806 | 0.00000000 |\n",
       "| 83381 | 0.6060606 | 0.2878788 | 0.09090909 | 0.01515152 | 0.00000000 |\n",
       "| 83386 | 0.5000000 | 0.3714286 | 0.10000000 | 0.02857143 | 0.00000000 |\n",
       "\n"
      ],
      "text/plain": [
       "      neutn     lympn     monon      eosn       bason     \n",
       "51143 0.5858586 0.3030303 0.06060606 0.04040404 0.01010101\n",
       "51146 0.7700000 0.1300000 0.09000000 0.01000000 0.00000000\n",
       "51150 0.4200000 0.4400000 0.10000000 0.03000000 0.01000000\n",
       "51160 0.6200000 0.2200000 0.11000000 0.04000000 0.01000000\n",
       "51163 0.4700000 0.3900000 0.11000000 0.03000000 0.00000000\n",
       "51167 0.6200000 0.2700000 0.08000000 0.02000000 0.01000000\n",
       "51169 0.4700000 0.4200000 0.07000000 0.03000000 0.01000000\n",
       "51170 0.4554455 0.4257426 0.06930693 0.03960396 0.00990099\n",
       "51172 0.5500000 0.3100000 0.09000000 0.05000000 0.00000000\n",
       "51173 0.5600000 0.3100000 0.09000000 0.03000000 0.01000000\n",
       "51180 0.5000000 0.3500000 0.10000000 0.05000000 0.00000000\n",
       "51183 0.5100000 0.3700000 0.09000000 0.03000000 0.00000000\n",
       "51186 0.4000000 0.5000000 0.06000000 0.03000000 0.01000000\n",
       "51192 0.5000000 0.4000000 0.07000000 0.02000000 0.01000000\n",
       "51195 0.4646465 0.3939394 0.09090909 0.05050505 0.00000000\n",
       "51198 0.6500000 0.2600000 0.06000000 0.02000000 0.01000000\n",
       "51201 0.5656566 0.3535354 0.05050505 0.03030303 0.00000000\n",
       "51202 0.4257426 0.4455446 0.08910891 0.02970297 0.00990099\n",
       "51204 0.4600000 0.4400000 0.08000000 0.01000000 0.01000000\n",
       "51209 0.5000000 0.3700000 0.10000000 0.03000000 0.00000000\n",
       "51210 0.4100000 0.4900000 0.07000000 0.02000000 0.01000000\n",
       "51217 0.5100000 0.4000000 0.06000000 0.03000000 0.00000000\n",
       "51222 0.5050505 0.3636364 0.09090909 0.03030303 0.01010101\n",
       "51230 0.6200000 0.2900000 0.06000000 0.02000000 0.01000000\n",
       "51236 0.4900000 0.3600000 0.09000000 0.05000000 0.01000000\n",
       "51239 0.6100000 0.2600000 0.08000000 0.04000000 0.01000000\n",
       "51254 0.6060606 0.2929293 0.08080808 0.02020202 0.00000000\n",
       "51274 0.4851485 0.3663366 0.08910891 0.03960396 0.01980198\n",
       "51278 0.5247525 0.3564356 0.07920792 0.02970297 0.00990099\n",
       "51282 0.6138614 0.2574257 0.07920792 0.03960396 0.00990099\n",
       "⋮     ⋮         ⋮         ⋮          ⋮          ⋮         \n",
       "83317 0.6428571 0.2571429 0.07142857 0.02857143 0.00000000\n",
       "83320 0.5000000 0.3076923 0.09615385 0.01923077 0.07692308\n",
       "83323 0.5161290 0.3548387 0.06451613 0.06451613 0.00000000\n",
       "83324 0.5113636 0.3977273 0.05681818 0.02272727 0.01136364\n",
       "83327 0.6288660 0.2783505 0.07216495 0.02061856 0.00000000\n",
       "83328 0.5303030 0.3484848 0.09090909 0.03030303 0.00000000\n",
       "83330 0.5573770 0.2786885 0.09836066 0.03278689 0.03278689\n",
       "83333 0.3518519 0.4629630 0.12962963 0.05555556 0.00000000\n",
       "83335 0.3888889 0.4861111 0.08333333 0.04166667 0.00000000\n",
       "83337 0.4897959 0.4081633 0.08163265 0.02040816 0.00000000\n",
       "83339 0.5466667 0.2933333 0.05333333 0.10666667 0.00000000\n",
       "83341 0.4561404 0.3859649 0.05263158 0.05263158 0.05263158\n",
       "83343 0.4833333 0.3666667 0.10000000 0.05000000 0.00000000\n",
       "83345 0.5500000 0.3166667 0.10000000 0.03333333 0.00000000\n",
       "83347 0.5192308 0.3653846 0.09615385 0.01923077 0.00000000\n",
       "83349 0.5098039 0.3529412 0.09803922 0.03921569 0.00000000\n",
       "83351 0.6093750 0.2968750 0.09375000 0.00000000 0.00000000\n",
       "83353 0.4464286 0.4107143 0.08928571 0.03571429 0.01785714\n",
       "83356 0.5492958 0.3098592 0.08450704 0.05633803 0.00000000\n",
       "83358 0.3866667 0.4800000 0.10666667 0.02666667 0.00000000\n",
       "83361 0.3225806 0.4838710 0.12903226 0.06451613 0.00000000\n",
       "83362 0.4457831 0.4096386 0.09638554 0.03614458 0.01204819\n",
       "83365 0.6597938 0.2680412 0.05154639 0.02061856 0.00000000\n",
       "83367 0.6153846 0.2692308 0.05769231 0.01923077 0.03846154\n",
       "83369 0.6136364 0.2500000 0.10227273 0.03409091 0.00000000\n",
       "83372 0.4651163 0.3488372 0.09302326 0.06976744 0.02325581\n",
       "83374 0.5111111 0.3555556 0.08888889 0.04444444 0.00000000\n",
       "83377 0.5645161 0.3225806 0.08064516 0.03225806 0.00000000\n",
       "83381 0.6060606 0.2878788 0.09090909 0.01515152 0.00000000\n",
       "83386 0.5000000 0.3714286 0.10000000 0.02857143 0.00000000"
      ]
     },
     "metadata": {},
     "output_type": "display_data"
    }
   ],
   "source": [
    "prop"
   ]
  },
  {
   "cell_type": "code",
   "execution_count": 6,
   "metadata": {
    "collapsed": true
   },
   "outputs": [
    {
     "ename": "ERROR",
     "evalue": "Error in apply(snps1_$genotype[, 1:1000], 2, function(x) sum(as.integer(x == : object 'snps1_' not found\n",
     "output_type": "error",
     "traceback": [
      "Error in apply(snps1_$genotype[, 1:1000], 2, function(x) sum(as.integer(x == : object 'snps1_' not found\nTraceback:\n",
      "1. as.data.frame(table(apply(snps1_$genotype[, 1:1000], 2, function(x) sum(as.integer(x == \n .     \"00\")))))",
      "2. table(apply(snps1_$genotype[, 1:1000], 2, function(x) sum(as.integer(x == \n .     \"00\"))))",
      "3. apply(snps1_$genotype[, 1:1000], 2, function(x) sum(as.integer(x == \n .     \"00\")))"
     ]
    }
   ],
   "source": [
    "tab = as.data.frame(table(apply(snps1_$genotype[,1:1000],2,function(x) sum(as.integer(x=='00')))))"
   ]
  },
  {
   "cell_type": "code",
   "execution_count": 183,
   "metadata": {
    "collapsed": true
   },
   "outputs": [
    {
     "data": {
      "image/png": "[encoded data removed]",
      "text/plain": [
       "plot without title"
      ]
     },
     "metadata": {},
     "output_type": "display_data"
    }
   ],
   "source": [
    "library(ggplot2)\n",
    "var1 = tab$Var1\n",
    "ggplot(tab, aes(x=factor(Var1),y = Freq))+geom_bar(stat = \"identity\") + scale_x_discrete(breaks = var1[c(T,F,F,F,F)])"
   ]
  },
  {
   "cell_type": "code",
   "execution_count": 8,
   "metadata": {
    "collapsed": true
   },
   "outputs": [],
   "source": [
    "geno_locs_path = '/u/project/sriram/bjew/dutch/dutch_gene_locs.csv'\n",
    "read_geno_locs <- function(geno_locs_path){\n",
    "    geno_locs = read.csv(geno_locs_path)\n",
    "    geno_locs$CHROM = substr(geno_locs$CHROM,4,6)\n",
    "    geno_locs$CHROM = gsub('X','23',geno_locs$CHROM)\n",
    "    geno_locs$CHROM = as.integer(gsub('Y','24',geno_locs$CHROM))\n",
    "    geno_locs = geno_locs[geno_locs$CHROM<24,]\n",
    "    rownames(geno_locs) = geno_locs$GENE\n",
    "    geno_locs = geno_locs[,c(2:ncol(geno_locs))]\n",
    "    return(geno_locs[order(geno_locs$CHROM,geno_locs$START),])\n",
    "}\n",
    "geno_locs = read_geno_locs(geno_locs_path)"
   ]
  },
  {
   "cell_type": "code",
   "execution_count": 9,
   "metadata": {
    "collapsed": true
   },
   "outputs": [],
   "source": [
    "GE_path = '/u/project/sriram/bjew/dutch/dutch_expression_without_rbc.csv'\n",
    "ge = read.csv(GE_path,row.names=1)\n",
    "colnames(ge) = substr(colnames(ge),2,10)\n",
    "ge = ge[,colnames(ge) %in% rownames(snps$genotype)]\n",
    "ge = ge[(rownames(ge) %in% rownames(geno_locs)),]\n",
    "ge = ge[,order(colnames(ge))]"
   ]
  },
  {
   "cell_type": "code",
   "execution_count": 10,
   "metadata": {
    "collapsed": true
   },
   "outputs": [],
   "source": [
    "snps$fam = snps$fam[rownames(snps$fam) %in% colnames(ge),]\n",
    "snps$genotype = snps$genotype[rownames(snps$genotype) %in% colnames(ge),]\n",
    "snps$fam = snps$fam[order(rownames(snps$fam)),]\n",
    "snps$genotype = snps$genotype[order(rownames(snps$genotype)),]"
   ]
  },
  {
   "cell_type": "code",
   "execution_count": 81,
   "metadata": {
    "collapsed": true
   },
   "outputs": [
    {
     "name": "stdout",
     "output_type": "stream",
     "text": [
      "coercing object of mode  numeric  to SnpMatrix\n",
      "Writing FAM file to /u/home/q/qmaai/project-sriram/tca-twas/data/pruned_data/dutch_filtered_individual_numeric.fam \n",
      "Writing extended MAP file to /u/home/q/qmaai/project-sriram/tca-twas/data/pruned_data/dutch_filtered_individual_numeric.bim \n",
      "Writing BED file to /u/home/q/qmaai/project-sriram/tca-twas/data/pruned_data/dutch_filtered_individual_numeric.bed (SNP-major mode)\n"
     ]
    },
    {
     "data": {
      "text/plain": [
       "NULL"
      ]
     },
     "metadata": {},
     "output_type": "display_data"
    }
   ],
   "source": [
    "# testt = as(snps$genotype,'numeric')\n",
    "# testt[is.na(testt)] = 2\n",
    "# snps.class<-new(\"SnpMatrix\", testt+1)\n",
    "# run this only once to produce to produce the filted individual bed files further for LD pruning\n",
    "# chromosome = snps$map$chromosome\n",
    "# chromosome[chromosome==23] = 'X'\n",
    "# write.plink('/u/home/q/qmaai/project-sriram/tca-twas/data/pruned_data/dutch_filtered_individual_numeric',snp.major = TRUE,\n",
    "#            snps=snps.class,pedigree=snps$fam$pedigree,id=snps$fam$member,sex=snps$fam$sex,\n",
    "#           phenotype=snps$fam$affected,chromosome=chromosome,position=snps$map$position)"
   ]
  },
  {
   "cell_type": "code",
   "execution_count": 11,
   "metadata": {
    "collapsed": true
   },
   "outputs": [],
   "source": [
    "prop_path = '/u/project/sriram/bjew/dutch/dutch_props.csv'\n",
    "prop = read.csv(prop_path,row.names=1)\n",
    "prop = prop[rownames(prop) %in% colnames(ge),]\n",
    "prop = prop[order(rownames(prop)),]"
   ]
  },
  {
   "cell_type": "code",
   "execution_count": 24,
   "metadata": {
    "collapsed": true
   },
   "outputs": [],
   "source": [
    "# give me one G_locs\n",
    "flank = 1000000\n",
    "find_cis_snps_gene <-function(S_geno,G_locs,S_map,G,threshold=0){\n",
    "    G_locs = G_locs[G,]\n",
    "    S_map = S_map[S_map$chromosome==G_locs$CHROM,]\n",
    "    cis_snps = S_map[((S_map$position>G_locs$START-flank) & (S_map$position<G_locs$START))\n",
    "                              | ((S_map$position<G_locs$END+flank) & (S_map$position>G_locs$END)),]\n",
    "    print(dim(cis_snps))\n",
    "    if(threshold!=0){\n",
    "        dis = pmax(cis_snps$position-G_locs$END,G_locs$START-cis_snps$position)\n",
    "        cis_snps = cis_snps[c(rank(dis) <= threshold),]\n",
    "    }\n",
    "    return(S_geno[,colnames(S_geno) %in% rownames(cis_snps)])\n",
    "}\n",
    "# find_cis_snps_gene(snps$geno,geno_locs,snps$map,1)"
   ]
  },
  {
   "cell_type": "code",
   "execution_count": 28,
   "metadata": {
    "collapsed": true
   },
   "outputs": [],
   "source": [
    "tca_twas_data_prep　<- function(snps,geno_locs,ge,cell_w,g){\n",
    "    # snps NxD\n",
    "    # ge NxM\n",
    "    # g the index of gene for ge\n",
    "    gene = rownames(ge)[g]\n",
    "    threshold = floor(((dim(snps$genotype)[1])/(dim(cell_w)[2]))-1)\n",
    "    snps_raw = find_cis_snps_gene(snps$genotype,geno_locs,snps$map,gene,threshold=threshold)\n",
    "    snps_ = as(snps_raw,\"numeric\")\n",
    "    snps_[is.na(snps_)] = 2\n",
    "    # snps_ = apply(snps_,2,as.integer)\n",
    "    # as(snps$genotype[c(1:100),c(1:100)],\"numeric\")\n",
    "    return(list('X'=snps_,\n",
    "                'X_raw'=snps_raw,\n",
    "                'G'=ge[gene,],\n",
    "                'W'=cell_w))\n",
    "}"
   ]
  },
  {
   "cell_type": "code",
   "execution_count": 26,
   "metadata": {
    "collapsed": true
   },
   "outputs": [],
   "source": [
    "check_bad_snps_for_gene <- function(snps,geno_locs,ge,cell_w,g){\n",
    "    \n",
    "    gene = rownames(ge)[g]\n",
    "    train_X_raw = find_cis_snps_gene(snps$genotype,geno_locs,snps$map,gene,dim(snps$genotype)[1])\n",
    "    train_X = as(train_X_raw,\"numeric\")\n",
    "    train_X[is.na(train_X)] = 2\n",
    "    W = cell_w\n",
    "    k = ncol(W)\n",
    "    n = nrow(W)\n",
    "    W_norms <- rowSums(W**2)**0.5\n",
    "    W_tilde <- W/t(repmat(W_norms,k,1))\n",
    "\n",
    "    bad_rows = array(0,ncol(train_X))\n",
    "    for (i in 1:ncol(train_X)){\n",
    "        train_X_ = matrix(train_X[,i],nrow=nrow(train_X),ncol=1)\n",
    "        C1_ = hadamard.prod(Reshape(Reshape(apply(W, 2, function(v) repmat(v,1,1)), n*k,1), n,k), repmat(train_X_, 1, k))\n",
    "        C1_tilde <- C1_/t(repmat(W_norms,k,1))\n",
    "        D = as.matrix(cbind(W_tilde,C1_tilde))\n",
    "        if(qr(D)$rank<dim(D)[2]){\n",
    "            bad_rows[i] = 1\n",
    "        }\n",
    "    }\n",
    "    bad_rows = which(bad_rows==1)\n",
    "    bad_snps = colnames(train_X_raw[,c(bad_rows)])\n",
    "    summary = col.summary(train_X_raw)\n",
    "    summary = summary[order(summary$MAF),]\n",
    "    bad_snps_position = which(rownames(summary) %in% bad_snps)\n",
    "    bad_snps_maf = summary$MAF[c(bad_snps_position)]\n",
    "    bad_snps = rownames(summary[c(bad_snps_position),])\n",
    "    return(list('snps_num'=nrow(summary),\n",
    "                'bad_snps'=bad_snps,\n",
    "                'bad_snps_position_in_least_maf_rank'=bad_snps_position,\n",
    "                'bad_snps_maf'=bad_snps_maf))\n",
    "}"
   ]
  },
  {
   "cell_type": "code",
   "execution_count": 54,
   "metadata": {},
   "outputs": [
    {
     "name": "stdout",
     "output_type": "stream",
     "text": [
      "[1] 179   6\n"
     ]
    }
   ],
   "source": [
    "bad_snps = check_bad_snps_for_gene(snps,geno_locs,ge,prop,1)"
   ]
  },
  {
   "cell_type": "code",
   "execution_count": 58,
   "metadata": {
    "collapsed": true
   },
   "outputs": [],
   "source": [
    "# for each gene, extract the bad snps\n",
    "li = c(109,120,132,192,197,225)\n",
    "rr = lapply(li,function(x) check_bad_snps_for_gene(snps,geno_locs,ge,prop,x))\n",
    "bad_snps = list()\n",
    "maf = list()\n",
    "for (i in 1:length(rr)){\n",
    "    bad_snps = append(bad_snps,rr[[i]]$bad_snps)\n",
    "    maf = append(maf,rr[[i]]$bad_snps_maf)\n",
    "}\n",
    "bad_snps_df = do.call(rbind, Map(data.frame, SNP_NAME=bad_snps, MAF=maf))\n",
    "bad_snps_df = unique(bad_snps_df)\n",
    "bad_snps_df = bad_snps_df[order(bad_snps_df$MAF),]"
   ]
  },
  {
   "cell_type": "code",
   "execution_count": 105,
   "metadata": {},
   "outputs": [
    {
     "name": "stdout",
     "output_type": "stream",
     "text": [
      "[1] 447   6\n",
      "[1] 413   6\n",
      "[1] 432   6\n",
      "[1] 453   6\n",
      "[1] 456   6\n",
      "[1] 414   6\n"
     ]
    }
   ],
   "source": [
    "failed = array(0,length(li))\n",
    "for (i in 1:length(li)){\n",
    "    gene_index = li[i]\n",
    "    data = tca_twas_data_prep(snps,geno_locs,ge,prop[,1:4],g=gene_index)\n",
    "    X=data[['X']]\n",
    "    X_raw = data[['X_raw']]\n",
    "    W = data[['W']]\n",
    "    # This is the reason why bason should be removed\n",
    "    # apply(W,2,function(x) sum(as.integer(x==0))/nrow(W))\n",
    "    W = (W[,c(1:4)])/rowSums(W[,c(1:4)])\n",
    "    G = data[['G']]\n",
    "    X = X[,!colnames(X) %in% rr[[i]]$bad_snps]\n",
    "    rnm = matrix(rnorm(ncol(X)*nrow(X),mean=0,sd=0.1),ncol=ncol(X),nrow=nrow(X))\n",
    "    X_raw = X_raw[,!colnames(X_raw) %in% rr[[i]]$bad_snps]\n",
    "    tryCatch({\n",
    "        tca.mdl <- tca(X=G,W=W,C1=X+rnm,verbose=FALSE)\n",
    "    },error=function(e){\n",
    "        print(paste(li[i],dim(X)[2],sep=' '))\n",
    "        failed[i]=1})\n",
    "}"
   ]
  },
  {
   "cell_type": "code",
   "execution_count": 22,
   "metadata": {},
   "outputs": [
    {
     "name": "stdout",
     "output_type": "stream",
     "text": [
      "[1] \"W_tilde\"\n"
     ]
    },
    {
     "data": {
      "text/html": [
       "<ol class=list-inline>\n",
       "\t<li>1464</li>\n",
       "\t<li>4</li>\n",
       "</ol>\n"
      ],
      "text/latex": [
       "\\begin{enumerate*}\n",
       "\\item 1464\n",
       "\\item 4\n",
       "\\end{enumerate*}\n"
      ],
      "text/markdown": [
       "1. 1464\n",
       "2. 4\n",
       "\n",
       "\n"
      ],
      "text/plain": [
       "[1] 1464    4"
      ]
     },
     "metadata": {},
     "output_type": "display_data"
    },
    {
     "data": {
      "text/html": [
       "4"
      ],
      "text/latex": [
       "4"
      ],
      "text/markdown": [
       "4"
      ],
      "text/plain": [
       "[1] 4"
      ]
     },
     "metadata": {},
     "output_type": "display_data"
    },
    {
     "name": "stdout",
     "output_type": "stream",
     "text": [
      "[1] \"C1\"\n"
     ]
    },
    {
     "data": {
      "text/html": [
       "<ol class=list-inline>\n",
       "\t<li>1464</li>\n",
       "\t<li>1484</li>\n",
       "</ol>\n"
      ],
      "text/latex": [
       "\\begin{enumerate*}\n",
       "\\item 1464\n",
       "\\item 1484\n",
       "\\end{enumerate*}\n"
      ],
      "text/markdown": [
       "1. 1464\n",
       "2. 1484\n",
       "\n",
       "\n"
      ],
      "text/plain": [
       "[1] 1464 1484"
      ]
     },
     "metadata": {},
     "output_type": "display_data"
    },
    {
     "data": {
      "text/html": [
       "1464"
      ],
      "text/latex": [
       "1464"
      ],
      "text/markdown": [
       "1464"
      ],
      "text/plain": [
       "[1] 1464"
      ]
     },
     "metadata": {},
     "output_type": "display_data"
    },
    {
     "name": "stdout",
     "output_type": "stream",
     "text": [
      "[1] \"D\"\n"
     ]
    },
    {
     "data": {
      "text/html": [
       "<ol class=list-inline>\n",
       "\t<li>1464</li>\n",
       "\t<li>1488</li>\n",
       "</ol>\n"
      ],
      "text/latex": [
       "\\begin{enumerate*}\n",
       "\\item 1464\n",
       "\\item 1488\n",
       "\\end{enumerate*}\n"
      ],
      "text/markdown": [
       "1. 1464\n",
       "2. 1488\n",
       "\n",
       "\n"
      ],
      "text/plain": [
       "[1] 1464 1488"
      ]
     },
     "metadata": {},
     "output_type": "display_data"
    },
    {
     "data": {
      "text/html": [
       "1464"
      ],
      "text/latex": [
       "1464"
      ],
      "text/markdown": [
       "1464"
      ],
      "text/plain": [
       "[1] 1464"
      ]
     },
     "metadata": {},
     "output_type": "display_data"
    },
    {
     "name": "stdout",
     "output_type": "stream",
     "text": [
      "[1] \"dependent columns of D\"\n"
     ]
    }
   ],
   "source": [
    "W = W\n",
    "k = ncol(W)\n",
    "W_norms <- rowSums(W**2)**0.5\n",
    "W_tilde <- W/t(repmat(W_norms,k,1))\n",
    "C2 <- matrix(0, nrow=ncol(G), ncol=0)\n",
    "\n",
    "train_X_ = X\n",
    "n = nrow(W)\n",
    "k = ncol(W)\n",
    "p1 = ncol(train_X_)\n",
    "C1_ = hadamard.prod(Reshape(Reshape(apply(W, 2, function(v) repmat(v,1,p1)), n*p1*k,1), n,p1*k), repmat(train_X_, 1, k))\n",
    "C1_tilde <- C1_/t(repmat(W_norms,k*p1,1))\n",
    "D = as.matrix(cbind(W_tilde,C2,C1_tilde))\n",
    "Dmat <- t(D) %*% D\n",
    "Dmat = round(Dmat,5)\n",
    "print('W_tilde')\n",
    "dim(W_tilde)\n",
    "qr(W_tilde)$rank\n",
    "print('C1')\n",
    "dim(C1_)\n",
    "qr(C1_)$rank\n",
    "print('D')\n",
    "dim(D)\n",
    "qr(D)$rank\n",
    "print('dependent columns of D')\n",
    "rankifremoved <- sapply(1:ncol(D), function (x) qr(D[,-x])$rank)\n",
    "rankifremoved\n",
    "which(rankifremoved == max(rankifremoved))\n",
    "print('positive definite Dmat')\n",
    "is.positive.definite(Dmat)"
   ]
  },
  {
   "cell_type": "code",
   "execution_count": 333,
   "metadata": {
    "collapsed": true
   },
   "outputs": [
    {
     "data": {
      "text/html": [
       "<ol class=list-inline>\n",
       "\t<li>'neutn'</li>\n",
       "\t<li>'lympn'</li>\n",
       "\t<li>'monon'</li>\n",
       "\t<li>'eosn'</li>\n",
       "\t<li>'1'</li>\n",
       "\t<li>'5'</li>\n",
       "\t<li>'9'</li>\n",
       "\t<li>'10'</li>\n",
       "\t<li>'11'</li>\n",
       "\t<li>'15'</li>\n",
       "\t<li>'19'</li>\n",
       "\t<li>'20'</li>\n",
       "\t<li>'21'</li>\n",
       "\t<li>'25'</li>\n",
       "\t<li>'29'</li>\n",
       "\t<li>'30'</li>\n",
       "\t<li>'31'</li>\n",
       "\t<li>'35'</li>\n",
       "\t<li>'39'</li>\n",
       "\t<li>'40'</li>\n",
       "</ol>\n"
      ],
      "text/latex": [
       "\\begin{enumerate*}\n",
       "\\item 'neutn'\n",
       "\\item 'lympn'\n",
       "\\item 'monon'\n",
       "\\item 'eosn'\n",
       "\\item '1'\n",
       "\\item '5'\n",
       "\\item '9'\n",
       "\\item '10'\n",
       "\\item '11'\n",
       "\\item '15'\n",
       "\\item '19'\n",
       "\\item '20'\n",
       "\\item '21'\n",
       "\\item '25'\n",
       "\\item '29'\n",
       "\\item '30'\n",
       "\\item '31'\n",
       "\\item '35'\n",
       "\\item '39'\n",
       "\\item '40'\n",
       "\\end{enumerate*}\n"
      ],
      "text/markdown": [
       "1. 'neutn'\n",
       "2. 'lympn'\n",
       "3. 'monon'\n",
       "4. 'eosn'\n",
       "5. '1'\n",
       "6. '5'\n",
       "7. '9'\n",
       "8. '10'\n",
       "9. '11'\n",
       "10. '15'\n",
       "11. '19'\n",
       "12. '20'\n",
       "13. '21'\n",
       "14. '25'\n",
       "15. '29'\n",
       "16. '30'\n",
       "17. '31'\n",
       "18. '35'\n",
       "19. '39'\n",
       "20. '40'\n",
       "\n",
       "\n"
      ],
      "text/plain": [
       " [1] \"neutn\" \"lympn\" \"monon\" \"eosn\"  \"1\"     \"5\"     \"9\"     \"10\"    \"11\"   \n",
       "[10] \"15\"    \"19\"    \"20\"    \"21\"    \"25\"    \"29\"    \"30\"    \"31\"    \"35\"   \n",
       "[19] \"39\"    \"40\"   "
      ]
     },
     "metadata": {},
     "output_type": "display_data"
    },
    {
     "data": {
      "text/html": [
       "<ol class=list-inline>\n",
       "\t<li>1</li>\n",
       "\t<li>2</li>\n",
       "\t<li>3</li>\n",
       "\t<li>4</li>\n",
       "\t<li>5</li>\n",
       "\t<li>9</li>\n",
       "\t<li>13</li>\n",
       "\t<li>14</li>\n",
       "\t<li>15</li>\n",
       "\t<li>19</li>\n",
       "\t<li>23</li>\n",
       "\t<li>24</li>\n",
       "\t<li>25</li>\n",
       "\t<li>29</li>\n",
       "\t<li>33</li>\n",
       "\t<li>34</li>\n",
       "\t<li>35</li>\n",
       "\t<li>39</li>\n",
       "\t<li>43</li>\n",
       "\t<li>44</li>\n",
       "</ol>\n"
      ],
      "text/latex": [
       "\\begin{enumerate*}\n",
       "\\item 1\n",
       "\\item 2\n",
       "\\item 3\n",
       "\\item 4\n",
       "\\item 5\n",
       "\\item 9\n",
       "\\item 13\n",
       "\\item 14\n",
       "\\item 15\n",
       "\\item 19\n",
       "\\item 23\n",
       "\\item 24\n",
       "\\item 25\n",
       "\\item 29\n",
       "\\item 33\n",
       "\\item 34\n",
       "\\item 35\n",
       "\\item 39\n",
       "\\item 43\n",
       "\\item 44\n",
       "\\end{enumerate*}\n"
      ],
      "text/markdown": [
       "1. 1\n",
       "2. 2\n",
       "3. 3\n",
       "4. 4\n",
       "5. 5\n",
       "6. 9\n",
       "7. 13\n",
       "8. 14\n",
       "9. 15\n",
       "10. 19\n",
       "11. 23\n",
       "12. 24\n",
       "13. 25\n",
       "14. 29\n",
       "15. 33\n",
       "16. 34\n",
       "17. 35\n",
       "18. 39\n",
       "19. 43\n",
       "20. 44\n",
       "\n",
       "\n"
      ],
      "text/plain": [
       " [1]  1  2  3  4  5  9 13 14 15 19 23 24 25 29 33 34 35 39 43 44"
      ]
     },
     "metadata": {},
     "output_type": "display_data"
    },
    {
     "name": "stderr",
     "output_type": "stream",
     "text": [
      "Warning message in summary.lm(linear_mod):\n",
      "“essentially perfect fit: summary may be unreliable”"
     ]
    },
    {
     "data": {
      "text/plain": [
       "\n",
       "Call:\n",
       "lm(formula = bad_matrix[, 1] ~ bad_matrix[, -c(1)])\n",
       "\n",
       "Residuals:\n",
       "       Min         1Q     Median         3Q        Max \n",
       "-2.208e-14 -4.000e-17  1.200e-17  6.110e-17  3.574e-15 \n",
       "\n",
       "Coefficients:\n",
       "                           Estimate Std. Error    t value Pr(>|t|)    \n",
       "(Intercept)               1.857e-16  7.636e-16  2.430e-01    0.808    \n",
       "bad_matrix[, -c(1)]lympn -2.357e+00  5.982e-14 -3.940e+13   <2e-16 ***\n",
       "bad_matrix[, -c(1)]monon  1.956e+01  2.291e-13  8.536e+13   <2e-16 ***\n",
       "bad_matrix[, -c(1)]eosn  -1.307e+01  1.191e-13 -1.098e+14   <2e-16 ***\n",
       "bad_matrix[, -c(1)]1      4.016e-01  3.054e-15  1.315e+14   <2e-16 ***\n",
       "bad_matrix[, -c(1)]5      3.096e-01  6.898e-15  4.489e+13   <2e-16 ***\n",
       "bad_matrix[, -c(1)]9      9.839e-02  5.581e-15  1.763e+13   <2e-16 ***\n",
       "bad_matrix[, -c(1)]10    -3.096e-01  1.399e-14 -2.213e+13   <2e-16 ***\n",
       "bad_matrix[, -c(1)]11    -4.865e-02  9.830e-15 -4.949e+12   <2e-16 ***\n",
       "bad_matrix[, -c(1)]15     1.186e+00  3.461e-14  3.426e+13   <2e-16 ***\n",
       "bad_matrix[, -c(1)]19     1.227e+00  1.447e-14  8.481e+13   <2e-16 ***\n",
       "bad_matrix[, -c(1)]20    -1.186e+00  4.545e-14 -2.609e+13   <2e-16 ***\n",
       "bad_matrix[, -c(1)]21    -2.024e+00  2.204e-14 -9.187e+13   <2e-16 ***\n",
       "bad_matrix[, -c(1)]25    -8.245e+00  9.764e-14 -8.444e+13   <2e-16 ***\n",
       "bad_matrix[, -c(1)]29    -7.754e+00  1.004e-13 -7.723e+13   <2e-16 ***\n",
       "bad_matrix[, -c(1)]30     8.245e+00  2.057e-13  4.008e+13   <2e-16 ***\n",
       "bad_matrix[, -c(1)]31     1.002e+00  1.339e-13  7.481e+12   <2e-16 ***\n",
       "bad_matrix[, -c(1)]35     4.623e+00  2.301e-13  2.009e+13   <2e-16 ***\n",
       "bad_matrix[, -c(1)]39     5.535e+00  1.002e-13  5.525e+13   <2e-16 ***\n",
       "bad_matrix[, -c(1)]40    -4.623e+00  2.330e-13 -1.984e+13   <2e-16 ***\n",
       "---\n",
       "Signif. codes:  0 ‘***’ 0.001 ‘**’ 0.01 ‘*’ 0.05 ‘.’ 0.1 ‘ ’ 1\n",
       "\n",
       "Residual standard error: 6.09e-16 on 1444 degrees of freedom\n",
       "Multiple R-squared:      1,\tAdjusted R-squared:      1 \n",
       "F-statistic: 1.989e+30 on 19 and 1444 DF,  p-value: < 2.2e-16\n"
      ]
     },
     "metadata": {},
     "output_type": "display_data"
    }
   ],
   "source": [
    "colnames(bad_matrix)\n",
    "bad_ranks = c(which(rankifremoved == max(rankifremoved)))\n",
    "bad_matrix = D[,bad_ranks]\n",
    "bad_ranks\n",
    "linear_mod = lm(bad_matrix[,1]~bad_matrix[,-c(1)])\n",
    "summary(linear_mod)"
   ]
  },
  {
   "cell_type": "code",
   "execution_count": 123,
   "metadata": {},
   "outputs": [
    {
     "data": {
      "text/html": [
       "<table>\n",
       "<caption>A SnpMatrix: 3 × 2 of type </caption>\n",
       "<thead>\n",
       "\t<tr><th></th><th scope=col>rs1397416</th><th scope=col>rs2666041</th></tr>\n",
       "</thead>\n",
       "<tbody>\n",
       "\t<tr><th scope=row>80175</th><td>02</td><td>03</td></tr>\n",
       "\t<tr><th scope=row>80774</th><td>03</td><td>02</td></tr>\n",
       "\t<tr><th scope=row>83008</th><td>02</td><td>03</td></tr>\n",
       "</tbody>\n",
       "</table>\n"
      ],
      "text/latex": [
       "A SnpMatrix: 3 × 2 of type \n",
       "\\begin{tabular}{r|ll}\n",
       "  & rs1397416 & rs2666041\\\\\n",
       "\\hline\n",
       "\t80175 & 02 & 03\\\\\n",
       "\t80774 & 03 & 02\\\\\n",
       "\t83008 & 02 & 03\\\\\n",
       "\\end{tabular}\n"
      ],
      "text/markdown": [
       "\n",
       "A SnpMatrix: 3 × 2 of type <!---->\n",
       "\n",
       "| <!--/--> | rs1397416 | rs2666041 |\n",
       "|---|---|---|\n",
       "| 80175 | 02 | 03 |\n",
       "| 80774 | 03 | 02 |\n",
       "| 83008 | 02 | 03 |\n",
       "\n"
      ],
      "text/plain": [
       "      rs1397416 rs2666041\n",
       "80175 02        03       \n",
       "80774 03        02       \n",
       "83008 02        03       "
      ]
     },
     "metadata": {},
     "output_type": "display_data"
    },
    {
     "data": {
      "text/html": [
       "<table>\n",
       "<caption>A data.frame: 3 × 4</caption>\n",
       "<thead>\n",
       "\t<tr><th></th><th scope=col>neutn</th><th scope=col>lympn</th><th scope=col>monon</th><th scope=col>eosn</th></tr>\n",
       "\t<tr><th></th><th scope=col>&lt;dbl&gt;</th><th scope=col>&lt;dbl&gt;</th><th scope=col>&lt;dbl&gt;</th><th scope=col>&lt;dbl&gt;</th></tr>\n",
       "</thead>\n",
       "<tbody>\n",
       "\t<tr><th scope=row>80175</th><td>0.5443038</td><td>0.3544304</td><td>0.06329114</td><td>0.03797468</td></tr>\n",
       "\t<tr><th scope=row>80774</th><td>0.4464286</td><td>0.4464286</td><td>0.08928571</td><td>0.01785714</td></tr>\n",
       "\t<tr><th scope=row>83008</th><td>0.4035088</td><td>0.4912281</td><td>0.08771930</td><td>0.01754386</td></tr>\n",
       "</tbody>\n",
       "</table>\n"
      ],
      "text/latex": [
       "A data.frame: 3 × 4\n",
       "\\begin{tabular}{r|llll}\n",
       "  & neutn & lympn & monon & eosn\\\\\n",
       "  & <dbl> & <dbl> & <dbl> & <dbl>\\\\\n",
       "\\hline\n",
       "\t80175 & 0.5443038 & 0.3544304 & 0.06329114 & 0.03797468\\\\\n",
       "\t80774 & 0.4464286 & 0.4464286 & 0.08928571 & 0.01785714\\\\\n",
       "\t83008 & 0.4035088 & 0.4912281 & 0.08771930 & 0.01754386\\\\\n",
       "\\end{tabular}\n"
      ],
      "text/markdown": [
       "\n",
       "A data.frame: 3 × 4\n",
       "\n",
       "| <!--/--> | neutn &lt;dbl&gt; | lympn &lt;dbl&gt; | monon &lt;dbl&gt; | eosn &lt;dbl&gt; |\n",
       "|---|---|---|---|---|\n",
       "| 80175 | 0.5443038 | 0.3544304 | 0.06329114 | 0.03797468 |\n",
       "| 80774 | 0.4464286 | 0.4464286 | 0.08928571 | 0.01785714 |\n",
       "| 83008 | 0.4035088 | 0.4912281 | 0.08771930 | 0.01754386 |\n",
       "\n"
      ],
      "text/plain": [
       "      neutn     lympn     monon      eosn      \n",
       "80175 0.5443038 0.3544304 0.06329114 0.03797468\n",
       "80774 0.4464286 0.4464286 0.08928571 0.01785714\n",
       "83008 0.4035088 0.4912281 0.08771930 0.01754386"
      ]
     },
     "metadata": {},
     "output_type": "display_data"
    },
    {
     "data": {
      "text/html": [
       "<table>\n",
       "<caption>A data.frame: 2 × 6</caption>\n",
       "<thead>\n",
       "\t<tr><th></th><th scope=col>chromosome</th><th scope=col>snp.name</th><th scope=col>cM</th><th scope=col>position</th><th scope=col>allele.1</th><th scope=col>allele.2</th></tr>\n",
       "\t<tr><th></th><th scope=col>&lt;int&gt;</th><th scope=col>&lt;chr&gt;</th><th scope=col>&lt;lgl&gt;</th><th scope=col>&lt;int&gt;</th><th scope=col>&lt;lgl&gt;</th><th scope=col>&lt;lgl&gt;</th></tr>\n",
       "</thead>\n",
       "<tbody>\n",
       "\t<tr><th scope=row>rs1397416</th><td>4</td><td>rs1397416</td><td>NA</td><td>179232206</td><td>NA</td><td>NA</td></tr>\n",
       "\t<tr><th scope=row>rs2666041</th><td>4</td><td>rs2666041</td><td>NA</td><td>179265296</td><td>NA</td><td>NA</td></tr>\n",
       "</tbody>\n",
       "</table>\n"
      ],
      "text/latex": [
       "A data.frame: 2 × 6\n",
       "\\begin{tabular}{r|llllll}\n",
       "  & chromosome & snp.name & cM & position & allele.1 & allele.2\\\\\n",
       "  & <int> & <chr> & <lgl> & <int> & <lgl> & <lgl>\\\\\n",
       "\\hline\n",
       "\trs1397416 & 4 & rs1397416 & NA & 179232206 & NA & NA\\\\\n",
       "\trs2666041 & 4 & rs2666041 & NA & 179265296 & NA & NA\\\\\n",
       "\\end{tabular}\n"
      ],
      "text/markdown": [
       "\n",
       "A data.frame: 2 × 6\n",
       "\n",
       "| <!--/--> | chromosome &lt;int&gt; | snp.name &lt;chr&gt; | cM &lt;lgl&gt; | position &lt;int&gt; | allele.1 &lt;lgl&gt; | allele.2 &lt;lgl&gt; |\n",
       "|---|---|---|---|---|---|---|\n",
       "| rs1397416 | 4 | rs1397416 | NA | 179232206 | NA | NA |\n",
       "| rs2666041 | 4 | rs2666041 | NA | 179265296 | NA | NA |\n",
       "\n"
      ],
      "text/plain": [
       "          chromosome snp.name  cM position  allele.1 allele.2\n",
       "rs1397416 4          rs1397416 NA 179232206 NA       NA      \n",
       "rs2666041 4          rs2666041 NA 179265296 NA       NA      "
      ]
     },
     "metadata": {},
     "output_type": "display_data"
    },
    {
     "data": {
      "text/html": [
       "-33090"
      ],
      "text/latex": [
       "-33090"
      ],
      "text/markdown": [
       "-33090"
      ],
      "text/plain": [
       "[1] -33090"
      ]
     },
     "metadata": {},
     "output_type": "display_data"
    },
    {
     "data": {
      "text/html": [
       "<ol class=list-inline>\n",
       "\t<li>219</li>\n",
       "\t<li>460</li>\n",
       "\t<li>1297</li>\n",
       "</ol>\n"
      ],
      "text/latex": [
       "\\begin{enumerate*}\n",
       "\\item 219\n",
       "\\item 460\n",
       "\\item 1297\n",
       "\\end{enumerate*}\n"
      ],
      "text/markdown": [
       "1. 219\n",
       "2. 460\n",
       "3. 1297\n",
       "\n",
       "\n"
      ],
      "text/plain": [
       "[1]  219  460 1297"
      ]
     },
     "metadata": {},
     "output_type": "display_data"
    }
   ],
   "source": [
    "train_X_[c(train_X_[,1]!=train_X_[,2]),]\n",
    "W[c(train_X_[,1]!=train_X_[,2]),]\n",
    "snp1 = colnames(train_X_)[1]\n",
    "snp2 = colnames(train_X_)[2]\n",
    "snps$map[c(snp1,snp2),]\n",
    "snps$map[snp1,]$position-snps$map[snp2,]$position\n",
    "which((snps$genotype[,snp1]!=snps$genotype[,snp2])\n",
    "      & snps$genotype[,snp1]!='00' \n",
    "      & snps$genotype[,snp2]!='00')"
   ]
  },
  {
   "cell_type": "code",
   "execution_count": 62,
   "metadata": {
    "collapsed": true
   },
   "outputs": [
    {
     "name": "stdout",
     "output_type": "stream",
     "text": [
      "[1] \"all snps that fails postive definite tests\"\n"
     ]
    },
    {
     "data": {
      "text/html": [
       "<ol class=list-inline>\n",
       "\t<li>10</li>\n",
       "\t<li>34</li>\n",
       "\t<li>40</li>\n",
       "\t<li>78</li>\n",
       "\t<li>80</li>\n",
       "\t<li>94</li>\n",
       "\t<li>116</li>\n",
       "\t<li>120</li>\n",
       "\t<li>216</li>\n",
       "\t<li>225</li>\n",
       "</ol>\n"
      ],
      "text/latex": [
       "\\begin{enumerate*}\n",
       "\\item 10\n",
       "\\item 34\n",
       "\\item 40\n",
       "\\item 78\n",
       "\\item 80\n",
       "\\item 94\n",
       "\\item 116\n",
       "\\item 120\n",
       "\\item 216\n",
       "\\item 225\n",
       "\\end{enumerate*}\n"
      ],
      "text/markdown": [
       "1. 10\n",
       "2. 34\n",
       "3. 40\n",
       "4. 78\n",
       "5. 80\n",
       "6. 94\n",
       "7. 116\n",
       "8. 120\n",
       "9. 216\n",
       "10. 225\n",
       "\n",
       "\n"
      ],
      "text/plain": [
       " [1]  10  34  40  78  80  94 116 120 216 225"
      ]
     },
     "metadata": {},
     "output_type": "display_data"
    },
    {
     "data": {
      "text/html": [
       "<ol class=list-inline>\n",
       "\t<li>7</li>\n",
       "\t<li>7</li>\n",
       "\t<li>5</li>\n",
       "\t<li>9</li>\n",
       "\t<li>8</li>\n",
       "\t<li>8</li>\n",
       "\t<li>7</li>\n",
       "\t<li>7</li>\n",
       "\t<li>7</li>\n",
       "\t<li>6</li>\n",
       "</ol>\n"
      ],
      "text/latex": [
       "\\begin{enumerate*}\n",
       "\\item 7\n",
       "\\item 7\n",
       "\\item 5\n",
       "\\item 9\n",
       "\\item 8\n",
       "\\item 8\n",
       "\\item 7\n",
       "\\item 7\n",
       "\\item 7\n",
       "\\item 6\n",
       "\\end{enumerate*}\n"
      ],
      "text/markdown": [
       "1. 7\n",
       "2. 7\n",
       "3. 5\n",
       "4. 9\n",
       "5. 8\n",
       "6. 8\n",
       "7. 7\n",
       "8. 7\n",
       "9. 7\n",
       "10. 6\n",
       "\n",
       "\n"
      ],
      "text/plain": [
       " [1] 7 7 5 9 8 8 7 7 7 6"
      ]
     },
     "metadata": {},
     "output_type": "display_data"
    },
    {
     "data": {
      "text/html": [
       "<dl class=dl-horizontal>\n",
       "\t<dt>rs16992030</dt>\n",
       "\t\t<dd>2</dd>\n",
       "\t<dt>rs755749</dt>\n",
       "\t\t<dd>2</dd>\n",
       "\t<dt>rs3852913</dt>\n",
       "\t\t<dd>1</dd>\n",
       "\t<dt>rs10420475</dt>\n",
       "\t\t<dd>2</dd>\n",
       "\t<dt>rs16990377</dt>\n",
       "\t\t<dd>2</dd>\n",
       "\t<dt>rs10402537</dt>\n",
       "\t\t<dd>2</dd>\n",
       "\t<dt>rs3786943</dt>\n",
       "\t\t<dd>2</dd>\n",
       "\t<dt>rs10420645</dt>\n",
       "\t\t<dd>2</dd>\n",
       "\t<dt>rs797458</dt>\n",
       "\t\t<dd>2</dd>\n",
       "\t<dt>rs372913</dt>\n",
       "\t\t<dd>2</dd>\n",
       "</dl>\n"
      ],
      "text/latex": [
       "\\begin{description*}\n",
       "\\item[rs16992030] 2\n",
       "\\item[rs755749] 2\n",
       "\\item[rs3852913] 1\n",
       "\\item[rs10420475] 2\n",
       "\\item[rs16990377] 2\n",
       "\\item[rs10402537] 2\n",
       "\\item[rs3786943] 2\n",
       "\\item[rs10420645] 2\n",
       "\\item[rs797458] 2\n",
       "\\item[rs372913] 2\n",
       "\\end{description*}\n"
      ],
      "text/markdown": [
       "rs16992030\n",
       ":   2rs755749\n",
       ":   2rs3852913\n",
       ":   1rs10420475\n",
       ":   2rs16990377\n",
       ":   2rs10402537\n",
       ":   2rs3786943\n",
       ":   2rs10420645\n",
       ":   2rs797458\n",
       ":   2rs372913\n",
       ":   2\n",
       "\n"
      ],
      "text/plain": [
       "rs16992030   rs755749  rs3852913 rs10420475 rs16990377 rs10402537  rs3786943 \n",
       "         2          2          1          2          2          2          2 \n",
       "rs10420645   rs797458   rs372913 \n",
       "         2          2          2 "
      ]
     },
     "metadata": {},
     "output_type": "display_data"
    }
   ],
   "source": [
    "W = train_W\n",
    "rnm = matrix(rnorm(nrow(W)*ncol(W),mean=0,sd=0.1),nrow=nrow(W),ncol=ncol(W))\n",
    "W = W # + rnm\n",
    "k = ncol(W)\n",
    "W_norms <- rowSums(W**2)**0.5\n",
    "W_tilde <- W/t(repmat(W_norms,k,1))\n",
    "C2 <- matrix(0, nrow=ncol(train_G), ncol=0)\n",
    "\n",
    "# bad_rows = 10 34 40 80 117 121 217 226\n",
    "bad_rows = array(0,ncol(train_X))\n",
    "rankD = array(0,ncol(train_X))\n",
    "dependent_row_number = list()\n",
    "for (i in 1:ncol(train_X)){\n",
    "    train_X_ = matrix(train_X[,i],nrow=nrow(train_X),ncol=1)\n",
    "    n = nrow(W)\n",
    "    k = ncol(W)\n",
    "    p1 = ncol(train_X_)\n",
    "    C1_ = hadamard.prod(Reshape(Reshape(apply(W, 2, function(v) repmat(v,1,p1)), n*p1*k,1), n,p1*k), repmat(train_X_, 1, k))\n",
    "    C1_tilde <- C1_/t(repmat(W_norms,k*p1,1))\n",
    "    D = as.matrix(cbind(W_tilde,C2,C1_tilde))#5:ncol(C1_tilde)]))\n",
    "    Dmat <- t(D) %*% D\n",
    "    Dmat = round(Dmat,10)\n",
    "    if (!is.positive.definite(Dmat)){\n",
    "        bad_rows[i] = 1\n",
    "        rankD[i] = qr(D)$rank\n",
    "        #rankifremoved <- sapply(1:ncol(D), function (x) qr(D[,-x])$rank)\n",
    "        #dependent_row_number[length(dependent_row_number)+1] =  c(which(rankifremoved == max(rankifremoved)))\n",
    "    }\n",
    "}\n",
    "print('all snps that fails postive definite tests')\n",
    "which(bad_rows==1)\n",
    "rankD[rankD!=0] # Their D matrix's rank\n",
    "# how many unique elements in 0/1/2/3 in these rows\n",
    "unlist(apply(train_X[,c(which(bad_rows==1))],2,function(x) length(unique(x))))\n",
    "#dependent_row_number"
   ]
  },
  {
   "cell_type": "code",
   "execution_count": 248,
   "metadata": {
    "collapsed": true
   },
   "outputs": [
    {
     "data": {
      "text/plain": [
       "\n",
       "   0    2    3 \n",
       "   2    2 1020 "
      ]
     },
     "metadata": {},
     "output_type": "display_data"
    },
    {
     "data": {
      "text/html": [
       "<ol class=list-inline>\n",
       "\t<li>0</li>\n",
       "\t<li>0</li>\n",
       "\t<li>0</li>\n",
       "\t<li>0</li>\n",
       "</ol>\n"
      ],
      "text/latex": [
       "\\begin{enumerate*}\n",
       "\\item 0\n",
       "\\item 0\n",
       "\\item 0\n",
       "\\item 0\n",
       "\\end{enumerate*}\n"
      ],
      "text/markdown": [
       "1. 0\n",
       "2. 0\n",
       "3. 0\n",
       "4. 0\n",
       "\n",
       "\n"
      ],
      "text/plain": [
       "[1] 0 0 0 0"
      ]
     },
     "metadata": {},
     "output_type": "display_data"
    }
   ],
   "source": [
    "# When column of the smallest cell type proportion\n",
    "# corresponds to its production of Wi*Ci.\n",
    "# But adding random noise will introduce further dependency. for snps = 80/117\n",
    "table(array(train_X_))\n",
    "W[c(which(train_X_!=3)),5]"
   ]
  },
  {
   "cell_type": "code",
   "execution_count": null,
   "metadata": {
    "collapsed": true
   },
   "outputs": [],
   "source": [
    "W = train_W + rnm\n",
    "k = ncol(W)\n",
    "W_norms <- rowSums(W**2)**0.5\n",
    "W_tilde <- W/t(repmat(W_norms,k,1))\n",
    "C2 <- matrix(0, nrow=ncol(train_G), ncol=0)\n",
    "\n",
    "# bad_rows = 34, 10\n",
    "bad_rows = array(0,ncol(train_X))\n",
    "rankD = array(0,ncol(train_X))\n",
    "dependent_row_number = list()\n",
    "for (i in 1:ncol(train_X)){\n",
    "    train_X_ = matrix(train_X[,i],nrow=nrow(train_X),ncol=1)\n",
    "    n = nrow(W)\n",
    "    k = ncol(W)\n",
    "    p1 = ncol(train_X_)\n",
    "    C1_ = hadamard.prod(Reshape(Reshape(apply(W, 2, function(v) repmat(v,1,p1)), n*p1*k,1), n,p1*k), repmat(train_X_, 1, k))\n",
    "    C1_tilde <- C1_/t(repmat(W_norms,k*p1,1))\n",
    "    D = as.matrix(cbind(W_tilde,C2,C1_tilde))#5:ncol(C1_tilde)]))\n",
    "    Dmat <- t(D) %*% D\n",
    "    Dmat = round(Dmat,10)\n",
    "    if (!is.positive.definite(Dmat)){\n",
    "        bad_rows[i] = 1\n",
    "        rankD[i] = qr(D)$rank\n",
    "        #rankifremoved <- sapply(1:ncol(D), function (x) qr(D[,-x])$rank)\n",
    "        #dependent_row_number[length(dependent_row_number)+1] =  (which(rankifremoved == max(rankifremoved)))\n",
    "    }\n",
    "\n",
    "}\n",
    "print('after random noise to weight, snps that fails')\n",
    "which(bad_rows==1)\n",
    "rankD[rankD!=0]"
   ]
  }
 ],
 "metadata": {
  "kernelspec": {
   "display_name": "R 3.6.0",
   "language": "R",
   "name": "ir36"
  },
  "language_info": {
   "codemirror_mode": "r",
   "file_extension": ".r",
   "mimetype": "text/x-r-source",
   "name": "R",
   "pygments_lexer": "r",
   "version": "3.6.0"
  }
 },
 "nbformat": 4,
 "nbformat_minor": 2
}
