{
 "cells": [
  {
   "cell_type": "code",
   "execution_count": 1,
   "metadata": {},
   "outputs": [
    {
     "name": "stderr",
     "output_type": "stream",
     "text": [
      "Loading required package: Matrix\n",
      "Loading required package: foreach\n",
      "Loaded glmnet 2.0-18\n",
      "\n",
      "\n",
      "Attaching package: ‘pracma’\n",
      "\n",
      "The following objects are masked from ‘package:Matrix’:\n",
      "\n",
      "    expm, lu, tril, triu\n",
      "\n"
     ]
    }
   ],
   "source": [
    "library(glmnet)\n",
    "library(matrixStats)\n",
    "library(abind)\n",
    "library(pracma)\n",
    "library(matrixcalc)\n",
    "library(TCA)"
   ]
  },
  {
   "cell_type": "code",
   "execution_count": 186,
   "metadata": {},
   "outputs": [
    {
     "data": {
      "text/html": [
       "'\\n=================================================\\nThis file is used to generate data from specific |\\ndistribution to simulate the TCA+TWAS pipepine. |\\n=================================================\\n'"
      ],
      "text/latex": [
       "'\\textbackslash{}n=================================================\\textbackslash{}nThis file is used to generate data from specific \\textbar{}\\textbackslash{}ndistribution to simulate the TCA+TWAS pipepine. \\textbar{}\\textbackslash{}n=================================================\\textbackslash{}n'"
      ],
      "text/markdown": [
       "'\\n=================================================\\nThis file is used to generate data from specific |\\ndistribution to simulate the TCA+TWAS pipepine. |\\n=================================================\\n'"
      ],
      "text/plain": [
       "[1] \"\\n=================================================\\nThis file is used to generate data from specific |\\ndistribution to simulate the TCA+TWAS pipepine. |\\n=================================================\\n\""
      ]
     },
     "metadata": {},
     "output_type": "display_data"
    },
    {
     "data": {
      "text/html": [
       "<span style=white-space:pre-wrap>'\\n  Generate SNPs and Gene Expression Data.\\n  @Params:\\n      N:          #samples\\n      D:          #SNP sequence length\\n      MAF:        #minor allele frequency\\n      M:          #gene expressions\\n      K:          #cell types\\n      p_slap:     sparsity. Proportion of gene not related to GE\\n      sigma_beta:         std of Beta (mu = X*beta+epsilon_{mu},beta gaussian)\\n      sigma_mu:           std of mu_z (mu = X*beta+epsilon_{mu},epsilon_mu gaussian)\\n      sigma_z:            std of Z (Z^{i}_{km}|mu^{i}_{km},epsilon^{i}_{km}~N{mu^{i}_{km},epsilon^{i}_{km})\\n      sigma_g:            std of Gene Expression\\n      alpha:              alpha for Cell Type Proportion, which follows dirichlet distribution\\n      Q                   number of traits\\n      train_proportion:   the proportion of training dataset\\n  @Shape information:\\n      This part tell us the shape information before we split them into training data and test data\\n      X:          N*D Matrix SNPs\\n      Z:          N*K*M Array cell type specific gene expression\\n      G:          M*N Matrix mixed gene expressions\\n      beta:       D*K*M Array effect size of SNPs on Z\\n      W:          N*K Matrix cell type proportion\\n      T:          Q Traits\\n      c1:         N*3\\n  @Returns:\\n      traing_data: [\\'X\\'=X, \\'Z\\'=Z, \\'G\\'=G, \\'beta\\'=beta, \\'W\\'=W, \\'T\\'=T, \\'c1\\'=c1]\\n      test_data:   [\\'X\\'=X, \\'Z\\'=Z, \\'G\\'=G, \\'beta\\'=beta, \\'W\\'=W, \\'T\\'=T, \\'c1\\'=c1]\\n  '</span>"
      ],
      "text/latex": [
       "'\\textbackslash{}n  Generate SNPs and Gene Expression Data.\\textbackslash{}n  @Params:\\textbackslash{}n      N:          \\#samples\\textbackslash{}n      D:          \\#SNP sequence length\\textbackslash{}n      MAF:        \\#minor allele frequency\\textbackslash{}n      M:          \\#gene expressions\\textbackslash{}n      K:          \\#cell types\\textbackslash{}n      p\\_slap:     sparsity. Proportion of gene not related to GE\\textbackslash{}n      sigma\\_beta:         std of Beta (mu = X*beta+epsilon\\_\\{mu\\},beta gaussian)\\textbackslash{}n      sigma\\_mu:           std of mu\\_z (mu = X*beta+epsilon\\_\\{mu\\},epsilon\\_mu gaussian)\\textbackslash{}n      sigma\\_z:            std of Z (Z\\textasciicircum{}\\{i\\}\\_\\{km\\}\\textbar{}mu\\textasciicircum{}\\{i\\}\\_\\{km\\},epsilon\\textasciicircum{}\\{i\\}\\_\\{km\\}\\textasciitilde{}N\\{mu\\textasciicircum{}\\{i\\}\\_\\{km\\},epsilon\\textasciicircum{}\\{i\\}\\_\\{km\\})\\textbackslash{}n      sigma\\_g:            std of Gene Expression\\textbackslash{}n      alpha:              alpha for Cell Type Proportion, which follows dirichlet distribution\\textbackslash{}n      Q                   number of traits\\textbackslash{}n      train\\_proportion:   the proportion of training dataset\\textbackslash{}n  @Shape information:\\textbackslash{}n      This part tell us the shape information before we split them into training data and test data\\textbackslash{}n      X:          N*D Matrix SNPs\\textbackslash{}n      Z:          N*K*M Array cell type specific gene expression\\textbackslash{}n      G:          M*N Matrix mixed gene expressions\\textbackslash{}n      beta:       D*K*M Array effect size of SNPs on Z\\textbackslash{}n      W:          N*K Matrix cell type proportion\\textbackslash{}n      T:          Q Traits\\textbackslash{}n      c1:         N*3\\textbackslash{}n  @Returns:\\textbackslash{}n      traing\\_data: {[}\\textbackslash{}'X\\textbackslash{}'=X, \\textbackslash{}'Z\\textbackslash{}'=Z, \\textbackslash{}'G\\textbackslash{}'=G, \\textbackslash{}'beta\\textbackslash{}'=beta, \\textbackslash{}'W\\textbackslash{}'=W, \\textbackslash{}'T\\textbackslash{}'=T, \\textbackslash{}'c1\\textbackslash{}'=c1{]}\\textbackslash{}n      test\\_data:   {[}\\textbackslash{}'X\\textbackslash{}'=X, \\textbackslash{}'Z\\textbackslash{}'=Z, \\textbackslash{}'G\\textbackslash{}'=G, \\textbackslash{}'beta\\textbackslash{}'=beta, \\textbackslash{}'W\\textbackslash{}'=W, \\textbackslash{}'T\\textbackslash{}'=T, \\textbackslash{}'c1\\textbackslash{}'=c1{]}\\textbackslash{}n  '"
      ],
      "text/markdown": [
       "<span style=white-space:pre-wrap>'\\n  Generate SNPs and Gene Expression Data.\\n  @Params:\\n      N:          #samples\\n      D:          #SNP sequence length\\n      MAF:        #minor allele frequency\\n      M:          #gene expressions\\n      K:          #cell types\\n      p_slap:     sparsity. Proportion of gene not related to GE\\n      sigma_beta:         std of Beta (mu = X*beta+epsilon_{mu},beta gaussian)\\n      sigma_mu:           std of mu_z (mu = X*beta+epsilon_{mu},epsilon_mu gaussian)\\n      sigma_z:            std of Z (Z^{i}_{km}|mu^{i}_{km},epsilon^{i}_{km}~N{mu^{i}_{km},epsilon^{i}_{km})\\n      sigma_g:            std of Gene Expression\\n      alpha:              alpha for Cell Type Proportion, which follows dirichlet distribution\\n      Q                   number of traits\\n      train_proportion:   the proportion of training dataset\\n  @Shape information:\\n      This part tell us the shape information before we split them into training data and test data\\n      X:          N*D Matrix SNPs\\n      Z:          N*K*M Array cell type specific gene expression\\n      G:          M*N Matrix mixed gene expressions\\n      beta:       D*K*M Array effect size of SNPs on Z\\n      W:          N*K Matrix cell type proportion\\n      T:          Q Traits\\n      c1:         N*3\\n  @Returns:\\n      traing_data: [\\'X\\'=X, \\'Z\\'=Z, \\'G\\'=G, \\'beta\\'=beta, \\'W\\'=W, \\'T\\'=T, \\'c1\\'=c1]\\n      test_data:   [\\'X\\'=X, \\'Z\\'=Z, \\'G\\'=G, \\'beta\\'=beta, \\'W\\'=W, \\'T\\'=T, \\'c1\\'=c1]\\n  '</span>"
      ],
      "text/plain": [
       "[1] \"\\n  Generate SNPs and Gene Expression Data.\\n  @Params:\\n      N:          #samples\\n      D:          #SNP sequence length\\n      MAF:        #minor allele frequency\\n      M:          #gene expressions\\n      K:          #cell types\\n      p_slap:     sparsity. Proportion of gene not related to GE\\n      sigma_beta:         std of Beta (mu = X*beta+epsilon_{mu},beta gaussian)\\n      sigma_mu:           std of mu_z (mu = X*beta+epsilon_{mu},epsilon_mu gaussian)\\n      sigma_z:            std of Z (Z^{i}_{km}|mu^{i}_{km},epsilon^{i}_{km}~N{mu^{i}_{km},epsilon^{i}_{km})\\n      sigma_g:            std of Gene Expression\\n      alpha:              alpha for Cell Type Proportion, which follows dirichlet distribution\\n      Q                   number of traits\\n      train_proportion:   the proportion of training dataset\\n  @Shape information:\\n      This part tell us the shape information before we split them into training data and test data\\n      X:          N*D Matrix SNPs\\n      Z:          N*K*M Array cell type specific gene expression\\n      G:          M*N Matrix mixed gene expressions\\n      beta:       D*K*M Array effect size of SNPs on Z\\n      W:          N*K Matrix cell type proportion\\n      T:          Q Traits\\n      c1:         N*3\\n  @Returns:\\n      traing_data: ['X'=X, 'Z'=Z, 'G'=G, 'beta'=beta, 'W'=W, 'T'=T, 'c1'=c1]\\n      test_data:   ['X'=X, 'Z'=Z, 'G'=G, 'beta'=beta, 'W'=W, 'T'=T, 'c1'=c1]\\n  \""
      ]
     },
     "metadata": {},
     "output_type": "display_data"
    }
   ],
   "source": [
    "\"\n",
    "=================================================\n",
    "This file is used to generate data from specific |\n",
    "distribution to simulate the TCA+TWAS pipepine. |\n",
    "=================================================\n",
    "\"\n",
    "\n",
    "  \"\n",
    "  Generate SNPs and Gene Expression Data.\n",
    "  @Params:\n",
    "      N:          #samples\n",
    "      D:          #SNP sequence length\n",
    "      MAF:        #minor allele frequency\n",
    "      M:          #gene expressions\n",
    "      K:          #cell types\n",
    "      p_slap:     sparsity. Proportion of gene not related to GE\n",
    "      sigma_beta:         std of Beta (mu = X*beta+epsilon_{mu},beta gaussian)\n",
    "      sigma_mu:           std of mu_z (mu = X*beta+epsilon_{mu},epsilon_mu gaussian)\n",
    "      sigma_z:            std of Z (Z^{i}_{km}|mu^{i}_{km},epsilon^{i}_{km}~N{mu^{i}_{km},epsilon^{i}_{km})\n",
    "      sigma_g:            std of Gene Expression\n",
    "      alpha:              alpha for Cell Type Proportion, which follows dirichlet distribution\n",
    "      Q                   number of traits\n",
    "      train_proportion:   the proportion of training dataset\n",
    "  @Shape information:\n",
    "      This part tell us the shape information before we split them into training data and test data\n",
    "      X:          N*D Matrix SNPs\n",
    "      Z:          N*K*M Array cell type specific gene expression\n",
    "      G:          M*N Matrix mixed gene expressions\n",
    "      beta:       D*K*M Array effect size of SNPs on Z\n",
    "      W:          N*K Matrix cell type proportion\n",
    "      T:          Q Traits\n",
    "      c1:         N*3\n",
    "  @Returns:\n",
    "      traing_data: ['X'=X, 'Z'=Z, 'G'=G, 'beta'=beta, 'W'=W, 'T'=T, 'c1'=c1]\n",
    "      test_data:   ['X'=X, 'Z'=Z, 'G'=G, 'beta'=beta, 'W'=W, 'T'=T, 'c1'=c1]\n",
    "  \"\n",
    "\n",
    "\n",
    "generate_data <- function(N=100,\n",
    "                          D=2000,\n",
    "                          MAF=0.1,\n",
    "                          M=10,\n",
    "                          K=6,\n",
    "                          p_slab=0.5,\n",
    "                          sigma_beta=0.3,\n",
    "                          sigma_mu=0.3,\n",
    "                          sigma_z=0.3,\n",
    "                          sigma_g=0.01,\n",
    "                          alpha=0.3,\n",
    "                          Q=5,\n",
    "                          train_proportion=0.7,\n",
    "                          male_proportion=0.5,\n",
    "                          smoking_proportion=0.2,\n",
    "                          pc_num=2\n",
    "                          ) {\n",
    "    library('MCMCpack')\n",
    "    \n",
    "    #### names\n",
    "    id_name = sapply(1:N, function(x) paste('SAMPLE',toString(x),sep = ''))\n",
    "    cell_type=sapply(1:K, function(x) paste('Cell_type',x,sep = ''))\n",
    "    snp_name=sapply(1:D, function(x) paste('SNP',toString(x),sep = ''))\n",
    "    ge_name=sapply(1:M, function(x) paste('GE',toString(x),sep=''))\n",
    "                   \n",
    "    #### generate X\n",
    "    X = sapply(1:D,function(x) rbinom(N, 2,0.1))\n",
    "    while (qr(X)$rank<min(dim(X))){\n",
    "        X = sapply(1:D,function(x) rbinom(N, 2,MAF))\n",
    "    }\n",
    "    \n",
    "    colnames(X, do.NULL = TRUE, prefix = \"col\")\n",
    "    colnames(X) <- snp_name\n",
    "    rownames(X, do.NULL = TRUE, prefix = \"col\")\n",
    "    rownames(X) <- id_name\n",
    "    \n",
    "    # mask a normal to form spikeslab\n",
    "    beta = rnorm(D*K*M, mean=0, sd=sigma_beta)\n",
    "    mask = rbinom(D*K*M, 1, 1-p_slab)\n",
    "    beta = array(beta*mask, c(D,K,M))\n",
    "    \n",
    "    # \\mu = X*\\beta+\\epsilon_mu\n",
    "    epsilon_mu = array(rnorm(N*K*M, mean = 0, sd=sigma_mu), c(N,K,M))\n",
    "    mu_z = lapply(c(1:M),function(x) X%*%beta[,,x])\n",
    "    mu_z = array(as.numeric(unlist(mu_z)), dim=c(N,K,M)) + epsilon_mu\n",
    "    # Simulate mu_jh that is shared across individuals\n",
    "    mu <- array(runif(M*K, min=0, max=10), c(M,K))\n",
    "    mu_stacked <- aperm(abind(lapply(1:N, function(x) mu), along = 3), c(3,2,1))\n",
    "    mu <- mu_stacked\n",
    "    # mu_z <- mu_stacked　# +mu_z\n",
    "    \n",
    "    #W = rdirichlet(N, rep(alpha,K))\n",
    "    W <- rdirichlet(N, runif(K, 0, 1))\n",
    "    colnames(W, do.NULL = TRUE, prefix = \"col\")\n",
    "    colnames(W) <- cell_type\n",
    "    rownames(W, do.NULL = TRUE, prefix = \"col\")\n",
    "    rownames(W) <- id_name\n",
    "  \n",
    "    # Beta :QxM\n",
    "    # T: NxQ\n",
    "    # epsilon: NxQ\n",
    "    \n",
    "    ### generate C1 and C2\n",
    "    male = matrix(rbinom(N, 1, 0.5),nrow=N)\n",
    "    smoking = matrix(rbinom(N, 2, 0.2),nrow=N)\n",
    "    smoking = (smoking - min(smoking))/(max(smoking))\n",
    "    age =matrix(sapply(sapply(rnorm(N,50, 20), function(x) floor(x)), function(x)  if (x<0){x=20} else{x=x}),nrow=N) \n",
    "    age = (age-min(age))/(max(age)-min(age))\n",
    "    c1= cbind(male, smoking, age)\n",
    "    c2=matrix(rnorm(N*pc_num), nrow=N)\n",
    "    rownames(c1, do.NULL = TRUE, prefix = \"col\")\n",
    "    rownames(c1) <- id_name\n",
    "    #colnames(c1, do.NULL = TRUE, prefix = \"col\")\n",
    "    #colnames(c1) <- c('male','smoking','age', snp_name)\n",
    "    #colnames(c1) <- snp_name\n",
    "    rownames(c2, do.NULL = TRUE, prefix = \"col\")\n",
    "    rownames(c2) <- id_name\n",
    "    colnames(c2, do.NULL = TRUE, prefix = \"col\")\n",
    "    colnames(c2) <- sapply(1:pc_num, function(x) paste('PC',toString(x),sep = ''))\n",
    "                           \n",
    "    ### Generating Z\n",
    "    # sample z from mu_z and epsilon_za and C1\n",
    "    # epsilon_z = array(rnorm(N*K*M,mean=0,sd=sigma_z), c(N,K,M))\n",
    "    #sigma_z <- runif(K*M, 0, 1)\n",
    "    #epsilon_z <- array(sapply(1:K*M, function(x) rnorm(N, mean=0, sd = sigma_z[x])),c(N,K,M))\n",
    "\n",
    "    sigma_z = matrix(runif(M*K,0,0.3),M,K)\n",
    "    epsilon_z = array(0,c(N,K,M))\n",
    "    for(i in 1:M){\n",
    "        for (j in 1:K){\n",
    "            epsilon_z[,j,i] = rnorm(N, 0 ,sigma_z[i,j])\n",
    "        }\n",
    "    }\n",
    "    Z = epsilon_z +mu_stacked\n",
    "    dimnames(Z)[[1]] <- id_name\n",
    "    dimnames(Z)[[2]] <- cell_type\n",
    "    dimnames(Z)[[3]] <- ge_name\n",
    "    # sample gama\n",
    "    gama = array(sapply(1:K*M, function(x) runif(3, 0, 1)), dim = c(K, 3, M))\n",
    "    c_gama = array(rep(0, N*K*M), c(N,K,M))\n",
    "    for (i in 1:K) {\n",
    "      c_gama[,i,] = c1 %*% gama[i,,]\n",
    "    }\n",
    "    Z = mu_z + Z# + c_gama\n",
    "                        \n",
    "    ### Generate Gene expressions\n",
    "    G = sapply(c(1:M),function(x) rowSums(W*Z[,,c(x)]))\n",
    "    epsilon_G = replicate(M,rnorm(N,mean=0,sd=sigma_g))\n",
    "    G = G +epsilon_G\n",
    "    T_t = runif(1)\n",
    "    epsilon_G = replicate(Q,rnorm(N))*T_t*T_t\n",
    "    beta_t = matrix(runif(Q*M),ncol=M)\n",
    "    T = G%*%t(beta_t)+epsilon_G\n",
    "    #generate delta\n",
    "    delta = matrix(sapply(1:M*pc_num, function(x) runif(pc_num,0,1)), nrow = pc_num)\n",
    "    c_delta = c2%*%delta\n",
    "    G = G + c_delta\n",
    "    \n",
    "    rownames(G, do.NULL = TRUE, prefix = \"col\")\n",
    "    rownames(G) <- id_name\n",
    "    colnames(G, do.NULL = TRUE, prefix = \"col\")\n",
    "    colnames(G) <- ge_name\n",
    "    G = t(G)                      \n",
    "    ### split into train and test data\n",
    "    prop = floor(train_proportion*dim(X)[1])\n",
    "    train_data = list('X'=X[c(1:prop),],\n",
    "                      'Z'=Z[c(1:prop),,],\n",
    "                      'G'=G[,c(1:prop)],\n",
    "                      'beta'=beta,\n",
    "                      'W'=W[c(1:prop),],\n",
    "                      'T'=T[c(1:prop),],\n",
    "                      'C1'=c1[c(1:prop),],\n",
    "                      'C2'=c2[c(1:prop),],\n",
    "                      'MU'=mu,\n",
    "                      'SIGMA_Z'=sigma_z)\n",
    "    test_data = list('X'=X[-c(1:prop),],\n",
    "                     'Z'=Z[-c(1:prop),,],\n",
    "                     'G'=G[,-c(1:prop)],\n",
    "                     'beta'=beta,\n",
    "                     'W'=W[-c(1:prop),],\n",
    "                     'T'=T[-c(1:prop),],\n",
    "                     'C1'=c1[-c(1:prop),],\n",
    "                     'C2'=c2[-c(1:prop),],\n",
    "                     'MU'=mu,\n",
    "                     'SIGMA_Z'=sigma_z)\n",
    "    \n",
    "    return(list('train_data'=train_data,'test_data'=test_data))\n",
    "}"
   ]
  },
  {
   "cell_type": "markdown",
   "metadata": {},
   "source": [
    "# TCA Simulation\n",
    "### I. Generate Data"
   ]
  },
  {
   "cell_type": "code",
   "execution_count": 211,
   "metadata": {},
   "outputs": [],
   "source": [
    "D = 200\n",
    "K = 4\n",
    "M = 10\n",
    "data=generate_data(N=1400,D=D,p_slab=0.5,M=M,K=K,MAF=0.18,train_proportion=0.7)\n",
    "train_data=data[['train_data']]\n",
    "test_data = data[['test_data']]\n",
    "train_X=train_data[['X']]\n",
    "train_W=train_data[['W']]\n",
    "train_G = train_data[['G']]\n",
    "train_c1=train_data[['C1']]\n",
    "train_c2=train_data[['C2']]\n",
    "train_Z=train_data[['Z']]\n",
    "beta=train_data[['beta']]\n",
    "\n",
    "test_X=test_data[['X']]\n",
    "test_W=test_data[['W']]\n",
    "test_G = test_data[['G']]\n",
    "test_Z = test_data[['Z']]\n",
    "test_c1=test_data[['C1']]\n",
    "test_c2=test_data[['C2']]"
   ]
  },
  {
   "cell_type": "code",
   "execution_count": 212,
   "metadata": {
    "collapsed": true
   },
   "outputs": [
    {
     "name": "stdout",
     "output_type": "stream",
     "text": [
      "[1] \"whether D is a fat or a thin matrix\"\n",
      "[1] \"tall matrx, null space might be zero. MAY/MAY NOT pass the test\"\n"
     ]
    },
    {
     "data": {
      "text/html": [
       "'979 &gt; 4 * 200 + 4 = 804'"
      ],
      "text/latex": [
       "'979 > 4 * 200 + 4 = 804'"
      ],
      "text/markdown": [
       "'979 &gt; 4 * 200 + 4 = 804'"
      ],
      "text/plain": [
       "[1] \"979 > 4 * 200 + 4 = 804\""
      ]
     },
     "metadata": {},
     "output_type": "display_data"
    }
   ],
   "source": [
    "print('whether D is a fat or a thin matrix')\n",
    "N_ = dim(train_X)[1]\n",
    "K_ = K\n",
    "D_ = D\n",
    "W_ = ncol(train_W)\n",
    "if(N_ < (K_*D_+W_)){\n",
    "    print('fat matrix, null space not null. semi definite. fail the test')\n",
    "    paste(N_,'<',K_,'*',D_,'+',W_,'=',K_*D_+W_,sep=' ')\n",
    "} else{\n",
    "    print('tall matrx, null space might be zero. MAY/MAY NOT pass the test')\n",
    "    paste(N_,'>',K_,'*',D_,'+',W_,'=',K_*D_+W_,sep=' ')\n",
    "}"
   ]
  },
  {
   "cell_type": "code",
   "execution_count": 213,
   "metadata": {},
   "outputs": [],
   "source": [
    "tca.mdl <- tca(X=train_G, W=train_W,C1=train_X,verbose=FALSE)"
   ]
  },
  {
   "cell_type": "code",
   "execution_count": 214,
   "metadata": {},
   "outputs": [
    {
     "name": "stdout",
     "output_type": "stream",
     "text": [
      "[1] \"W_tilde\"\n"
     ]
    },
    {
     "data": {
      "text/html": [
       "<ol class=list-inline>\n",
       "\t<li>979</li>\n",
       "\t<li>4</li>\n",
       "</ol>\n"
      ],
      "text/latex": [
       "\\begin{enumerate*}\n",
       "\\item 979\n",
       "\\item 4\n",
       "\\end{enumerate*}\n"
      ],
      "text/markdown": [
       "1. 979\n",
       "2. 4\n",
       "\n",
       "\n"
      ],
      "text/plain": [
       "[1] 979   4"
      ]
     },
     "metadata": {},
     "output_type": "display_data"
    },
    {
     "data": {
      "text/html": [
       "4"
      ],
      "text/latex": [
       "4"
      ],
      "text/markdown": [
       "4"
      ],
      "text/plain": [
       "[1] 4"
      ]
     },
     "metadata": {},
     "output_type": "display_data"
    },
    {
     "name": "stdout",
     "output_type": "stream",
     "text": [
      "[1] \"C1_tilde\"\n"
     ]
    },
    {
     "data": {
      "text/html": [
       "<ol class=list-inline>\n",
       "\t<li>979</li>\n",
       "\t<li>800</li>\n",
       "</ol>\n"
      ],
      "text/latex": [
       "\\begin{enumerate*}\n",
       "\\item 979\n",
       "\\item 800\n",
       "\\end{enumerate*}\n"
      ],
      "text/markdown": [
       "1. 979\n",
       "2. 800\n",
       "\n",
       "\n"
      ],
      "text/plain": [
       "[1] 979 800"
      ]
     },
     "metadata": {},
     "output_type": "display_data"
    },
    {
     "data": {
      "text/html": [
       "800"
      ],
      "text/latex": [
       "800"
      ],
      "text/markdown": [
       "800"
      ],
      "text/plain": [
       "[1] 800"
      ]
     },
     "metadata": {},
     "output_type": "display_data"
    },
    {
     "name": "stdout",
     "output_type": "stream",
     "text": [
      "[1] \"D\"\n"
     ]
    },
    {
     "data": {
      "text/html": [
       "<ol class=list-inline>\n",
       "\t<li>979</li>\n",
       "\t<li>804</li>\n",
       "</ol>\n"
      ],
      "text/latex": [
       "\\begin{enumerate*}\n",
       "\\item 979\n",
       "\\item 804\n",
       "\\end{enumerate*}\n"
      ],
      "text/markdown": [
       "1. 979\n",
       "2. 804\n",
       "\n",
       "\n"
      ],
      "text/plain": [
       "[1] 979 804"
      ]
     },
     "metadata": {},
     "output_type": "display_data"
    },
    {
     "data": {
      "text/html": [
       "804"
      ],
      "text/latex": [
       "804"
      ],
      "text/markdown": [
       "804"
      ],
      "text/plain": [
       "[1] 804"
      ]
     },
     "metadata": {},
     "output_type": "display_data"
    },
    {
     "name": "stdout",
     "output_type": "stream",
     "text": [
      "[1] \"dependent columns of D\"\n",
      "[1] \"positive definite Dmat\"\n"
     ]
    },
    {
     "data": {
      "text/html": [
       "TRUE"
      ],
      "text/latex": [
       "TRUE"
      ],
      "text/markdown": [
       "TRUE"
      ],
      "text/plain": [
       "[1] TRUE"
      ]
     },
     "metadata": {},
     "output_type": "display_data"
    }
   ],
   "source": [
    "W = train_W# + rnm\n",
    "k = ncol(W)\n",
    "W_norms <- rowSums(W**2)**0.5\n",
    "W_tilde <- W/t(repmat(W_norms,k,1))\n",
    "C2 <- matrix(0, nrow=ncol(train_G), ncol=0)\n",
    "train_X_ = train_X\n",
    "n = nrow(W)\n",
    "k = ncol(W)\n",
    "p1 = ncol(train_X_)\n",
    "C1_ = hadamard.prod(Reshape(Reshape(apply(W, 2, function(v) repmat(v,1,p1)), n*p1*k,1), n,p1*k), repmat(train_X_, 1, k))\n",
    "C1_tilde <- C1_/t(repmat(W_norms,k*p1,1))\n",
    "D = as.matrix(cbind(W_tilde,C2,C1_tilde))#5:ncol(C1_tilde)]))\n",
    "Dmat <- t(D) %*% D\n",
    "Dmat = round(Dmat,10)\n",
    "print('W_tilde')\n",
    "dim(W_tilde)\n",
    "qr(W_tilde)$rank\n",
    "print('C1_tilde')\n",
    "dim(C1_tilde)\n",
    "qr(C1_tilde)$rank\n",
    "print('D')\n",
    "dim(D)\n",
    "qr(D)$rank\n",
    "print('dependent columns of D')\n",
    "#rankifremoved <- sapply(1:ncol(D), function (x) qr(D[,-x])$rank)\n",
    "#rankifremoved\n",
    "#which(rankifremoved == max(rankifremoved))\n",
    "print('positive definite Dmat')\n",
    "is.positive.definite(Dmat)"
   ]
  },
  {
   "cell_type": "code",
   "execution_count": 215,
   "metadata": {},
   "outputs": [
    {
     "name": "stdout",
     "output_type": "stream",
     "text": [
      "[1] \"all snps that fails postive definite tests\"\n"
     ]
    },
    {
     "data": {
      "text/html": [],
      "text/latex": [],
      "text/markdown": [],
      "text/plain": [
       "numeric(0)"
      ]
     },
     "metadata": {},
     "output_type": "display_data"
    },
    {
     "data": {
      "text/html": [],
      "text/latex": [],
      "text/markdown": [],
      "text/plain": [
       "integer(0)"
      ]
     },
     "metadata": {},
     "output_type": "display_data"
    },
    {
     "name": "stdout",
     "output_type": "stream",
     "text": [
      "[1] \"after random noise to weight, snps that fails\"\n"
     ]
    },
    {
     "data": {
      "text/html": [],
      "text/latex": [],
      "text/markdown": [],
      "text/plain": [
       "integer(0)"
      ]
     },
     "metadata": {},
     "output_type": "display_data"
    },
    {
     "data": {
      "text/html": [],
      "text/latex": [],
      "text/markdown": [],
      "text/plain": [
       "numeric(0)"
      ]
     },
     "metadata": {},
     "output_type": "display_data"
    }
   ],
   "source": [
    "rnm = matrix(rnorm(nrow(W)*ncol(W),mean=0,sd=0.1),nrow=nrow(W),ncol=ncol(W))\n",
    "\n",
    "W = train_W# + rnm\n",
    "k = ncol(W)\n",
    "W_norms <- rowSums(W**2)**0.5\n",
    "W_tilde <- W/t(repmat(W_norms,k,1))\n",
    "C2 <- matrix(0, nrow=ncol(train_G), ncol=0)\n",
    "\n",
    "# bad_rows = 10 34 40 80 117 121 217 226\n",
    "bad_rows = array(0,ncol(train_X))\n",
    "rankD = array(0,ncol(train_X))\n",
    "dependent_row_number = list()\n",
    "for (i in 1:ncol(train_X)){\n",
    "    train_X_ = matrix(train_X[,i],nrow=nrow(train_X),ncol=1)\n",
    "    n = nrow(W)\n",
    "    k = ncol(W)\n",
    "    p1 = ncol(train_X_)\n",
    "    C1_ = hadamard.prod(Reshape(Reshape(apply(W, 2, function(v) repmat(v,1,p1)), n*p1*k,1), n,p1*k), repmat(train_X_, 1, k))\n",
    "    C1_tilde <- C1_/t(repmat(W_norms,k*p1,1))\n",
    "    D = as.matrix(cbind(W_tilde,C2,C1_tilde))#5:ncol(C1_tilde)]))\n",
    "    Dmat <- t(D) %*% D\n",
    "    Dmat = round(Dmat,10)\n",
    "    if (!is.positive.definite(Dmat)){\n",
    "        bad_rows[i] = 1\n",
    "        rankD[i] = qr(D)$rank\n",
    "        #rankifremoved <- sapply(1:ncol(D), function (x) qr(D[,-x])$rank)\n",
    "        #dependent_row_number[length(dependent_row_number)+1] =  c(which(rankifremoved == max(rankifremoved)))\n",
    "    }\n",
    "}\n",
    "print('all snps that fails postive definite tests')\n",
    "# which(bad_rows==1)\n",
    "rankD[rankD!=0] # Their D matrix's rank\n",
    "# how many unique elements in 0/1/2/3 in these rows\n",
    "unlist(apply(train_X[,c(which(bad_rows==1))],2,function(x) length(unique(x))))\n",
    "#dependent_row_number\n",
    "                                \n",
    "                                \n",
    "W = train_W + rnm\n",
    "k = ncol(W)\n",
    "W_norms <- rowSums(W**2)**0.5\n",
    "W_tilde <- W/t(repmat(W_norms,k,1))\n",
    "C2 <- matrix(0, nrow=ncol(train_G), ncol=0)\n",
    "\n",
    "# bad_rows = 34, 10\n",
    "bad_rows = array(0,ncol(train_X))\n",
    "rankD = array(0,ncol(train_X))\n",
    "dependent_row_number = list()\n",
    "for (i in 1:ncol(train_X)){\n",
    "    train_X_ = matrix(train_X[,i],nrow=nrow(train_X),ncol=1)\n",
    "    n = nrow(W)\n",
    "    k = ncol(W)\n",
    "    p1 = ncol(train_X_)\n",
    "    C1_ = hadamard.prod(Reshape(Reshape(apply(W, 2, function(v) repmat(v,1,p1)), n*p1*k,1), n,p1*k), repmat(train_X_, 1, k))\n",
    "    C1_tilde <- C1_/t(repmat(W_norms,k*p1,1))\n",
    "    D = as.matrix(cbind(W_tilde,C2,C1_tilde))#5:ncol(C1_tilde)]))\n",
    "    Dmat <- t(D) %*% D\n",
    "    Dmat = round(Dmat,10)\n",
    "    if (!is.positive.definite(Dmat)){\n",
    "        bad_rows[i] = 1\n",
    "        rankD[i] = qr(D)$rank\n",
    "        #rankifremoved <- sapply(1:ncol(D), function (x) qr(D[,-x])$rank)\n",
    "        #dependent_row_number[length(dependent_row_number)+1] =  (which(rankifremoved == max(rankifremoved)))\n",
    "    }\n",
    "\n",
    "}\n",
    "print('after random noise to weight, snps that fails')\n",
    "which(bad_rows==1)\n",
    "rankD[rankD!=0]"
   ]
  },
  {
   "cell_type": "markdown",
   "metadata": {},
   "source": [
    "### II. TCA model"
   ]
  },
  {
   "cell_type": "code",
   "execution_count": 199,
   "metadata": {},
   "outputs": [],
   "source": [
    "D = 200\n",
    "K = 4\n",
    "M = 10\n",
    "data=generate_data(N=5000,D=D,p_slab=0.5,M=M,K=K,MAF=0.18,train_proportion=0.7,sigma_g=0.3)\n",
    "train_data=data[['train_data']]\n",
    "test_data = data[['test_data']]\n",
    "train_X=train_data[['X']]\n",
    "train_W=train_data[['W']]\n",
    "train_G = train_data[['G']]\n",
    "train_c1=train_data[['C1']]\n",
    "train_c2=train_data[['C2']]\n",
    "train_Z=train_data[['Z']]\n",
    "beta=train_data[['beta']]\n",
    "\n",
    "test_X=test_data[['X']]\n",
    "test_W=test_data[['W']]\n",
    "test_G = test_data[['G']]\n",
    "test_Z = test_data[['Z']]\n",
    "test_c1=test_data[['C1']]\n",
    "test_c2=test_data[['C2']]"
   ]
  },
  {
   "cell_type": "code",
   "execution_count": 200,
   "metadata": {},
   "outputs": [
    {
     "data": {
      "text/plain": [
       "\n",
       "\tPearson's product-moment correlation\n",
       "\n",
       "data:  z_ and z_hat\n",
       "t = 5.7698, df = 38, p-value = 1.178e-06\n",
       "alternative hypothesis: true correlation is not equal to 0\n",
       "95 percent confidence interval:\n",
       " 0.4724062 0.8202547\n",
       "sample estimates:\n",
       "      cor \n",
       "0.6833539 \n"
      ]
     },
     "metadata": {},
     "output_type": "display_data"
    },
    {
     "data": {
      "text/html": [
       "<table>\n",
       "<caption>A matrix: 4 × 4 of type dbl</caption>\n",
       "<thead>\n",
       "\t<tr><th></th><th scope=col>Cell_type1</th><th scope=col>Cell_type2</th><th scope=col>Cell_type3</th><th scope=col>Cell_type4</th></tr>\n",
       "</thead>\n",
       "<tbody>\n",
       "\t<tr><th scope=row>Cell_type1</th><td> 0.9824847</td><td>-0.19472108</td><td>-0.28811985</td><td>-0.622327505</td></tr>\n",
       "\t<tr><th scope=row>Cell_type2</th><td>-0.1487512</td><td> 0.98390742</td><td> 0.06534361</td><td>-0.212794786</td></tr>\n",
       "\t<tr><th scope=row>Cell_type3</th><td>-0.4283274</td><td> 0.09539096</td><td> 0.92877144</td><td> 0.001409613</td></tr>\n",
       "\t<tr><th scope=row>Cell_type4</th><td>-0.3026210</td><td>-0.22275811</td><td> 0.03637195</td><td> 0.270610825</td></tr>\n",
       "</tbody>\n",
       "</table>\n"
      ],
      "text/latex": [
       "A matrix: 4 × 4 of type dbl\n",
       "\\begin{tabular}{r|llll}\n",
       "  & Cell\\_type1 & Cell\\_type2 & Cell\\_type3 & Cell\\_type4\\\\\n",
       "\\hline\n",
       "\tCell\\_type1 &  0.9824847 & -0.19472108 & -0.28811985 & -0.622327505\\\\\n",
       "\tCell\\_type2 & -0.1487512 &  0.98390742 &  0.06534361 & -0.212794786\\\\\n",
       "\tCell\\_type3 & -0.4283274 &  0.09539096 &  0.92877144 &  0.001409613\\\\\n",
       "\tCell\\_type4 & -0.3026210 & -0.22275811 &  0.03637195 &  0.270610825\\\\\n",
       "\\end{tabular}\n"
      ],
      "text/markdown": [
       "\n",
       "A matrix: 4 × 4 of type dbl\n",
       "\n",
       "| <!--/--> | Cell_type1 | Cell_type2 | Cell_type3 | Cell_type4 |\n",
       "|---|---|---|---|---|\n",
       "| Cell_type1 |  0.9824847 | -0.19472108 | -0.28811985 | -0.622327505 |\n",
       "| Cell_type2 | -0.1487512 |  0.98390742 |  0.06534361 | -0.212794786 |\n",
       "| Cell_type3 | -0.4283274 |  0.09539096 |  0.92877144 |  0.001409613 |\n",
       "| Cell_type4 | -0.3026210 | -0.22275811 |  0.03637195 |  0.270610825 |\n",
       "\n"
      ],
      "text/plain": [
       "           Cell_type1 Cell_type2  Cell_type3  Cell_type4  \n",
       "Cell_type1  0.9824847 -0.19472108 -0.28811985 -0.622327505\n",
       "Cell_type2 -0.1487512  0.98390742  0.06534361 -0.212794786\n",
       "Cell_type3 -0.4283274  0.09539096  0.92877144  0.001409613\n",
       "Cell_type4 -0.3026210 -0.22275811  0.03637195  0.270610825"
      ]
     },
     "metadata": {},
     "output_type": "display_data"
    }
   ],
   "source": [
    "rnm = matrix(rnorm(nrow(train_X)*ncol(train_X),mean=0,sd=0.1),nrow=nrow(train_X),ncol=ncol(train_X))\n",
    "tca.mdl <- tca(X=train_G, W=train_W, C1=train_X, C2=train_c2,verbose=FALSE)\n",
    "#tca.mdl <- tca(X=train_G, W=train_W,C1=train_c1,C2=train_c2,verbose=FALSE)\n",
    "# tca.mdl <- tca(X=train_G, W=train_W,verbose=FALSE)\n",
    "mu_hat=tca.mdl[['mus_hat']]\n",
    "sigma_hat=tca.mdl[['sigmas_hat']]\n",
    "\n",
    "# tca model summary statistics\n",
    "z_hat=mu_hat#+sigma_hat\n",
    "\n",
    "z_ = colSums(train_Z)/dim(train_Z)[[1]]\n",
    "z_=t(z_)\n",
    "cor.test(z_, z_hat)\n",
    "cor(z_, z_hat)"
   ]
  },
  {
   "cell_type": "markdown",
   "metadata": {},
   "source": [
    "TCA models $$Z^{i}_{hj}\\sim N(\\mu_{hj},\\sigma_{hj})$$ <br\\> Same value across all samples. The test is the correlation between predicted $Z_{hj} \\subseteq R_{MxK}$ and the real value"
   ]
  },
  {
   "cell_type": "code",
   "execution_count": 201,
   "metadata": {},
   "outputs": [
    {
     "name": "stdout",
     "output_type": "stream",
     "text": [
      "[1] 0.8077872 0.7961064 0.8923311 0.2126965\n",
      "[1] 0.6891876 0.6733700 0.8853929 0.1400134\n",
      "[1] 0.55029543 0.49733547 0.74151487 0.01952763\n",
      "[1] 0.5470466 0.5513850 0.7981101 0.1060033\n",
      "[1] 0.609346194 0.540931856 0.816991929 0.008268835\n",
      "[1] 0.7371731 0.6879743 0.8369080 0.0425594\n",
      "[1] 0.6947268 0.6694169 0.8546228 0.1518756\n",
      "[1] 0.562270931 0.550720472 0.887063255 0.003382284\n",
      "[1] 0.78024756 0.79538859 0.85766763 0.07978051\n",
      "[1] 0.7823855 0.7863335 0.8293514 0.1022495\n"
     ]
    }
   ],
   "source": [
    "# correlation of the PCA prediction and the ground truth\n",
    "# tca predicted z and the real z\n",
    "for (gene_exp in c(1:dim(train_G)[[1]])){\n",
    "    ge_name <- rownames(train_G)[gene_exp]\n",
    "    tca.mdl.ge <- tcasub(tca.mdl,ge_name,log_file=NULL,verbose=FALSE)\n",
    "    Z_hat <- tensor(t(train_G[gene_exp,]),tca.mdl.ge,log_file=NULL,verbose=FALSE)\n",
    "    print(sapply(1:length(Z_hat), function(x) cor(unlist(Z_hat[x]),unlist(train_data[['Z']][,x,gene_exp]))))\n",
    "}"
   ]
  },
  {
   "cell_type": "code",
   "execution_count": 202,
   "metadata": {},
   "outputs": [
    {
     "data": {
      "text/html": [
       "<dl class=dl-horizontal>\n",
       "\t<dt>Cell_type1</dt>\n",
       "\t\t<dd>0.37815933352591</dd>\n",
       "\t<dt>Cell_type2</dt>\n",
       "\t\t<dd>0.508879791266052</dd>\n",
       "\t<dt>Cell_type3</dt>\n",
       "\t\t<dd>0.099978433988963</dd>\n",
       "\t<dt>Cell_type4</dt>\n",
       "\t\t<dd>0.0129824412190746</dd>\n",
       "</dl>\n"
      ],
      "text/latex": [
       "\\begin{description*}\n",
       "\\item[Cell\\textbackslash{}\\_type1] 0.37815933352591\n",
       "\\item[Cell\\textbackslash{}\\_type2] 0.508879791266052\n",
       "\\item[Cell\\textbackslash{}\\_type3] 0.099978433988963\n",
       "\\item[Cell\\textbackslash{}\\_type4] 0.0129824412190746\n",
       "\\end{description*}\n"
      ],
      "text/markdown": [
       "Cell_type1\n",
       ":   0.37815933352591Cell_type2\n",
       ":   0.508879791266052Cell_type3\n",
       ":   0.099978433988963Cell_type4\n",
       ":   0.0129824412190746\n",
       "\n"
      ],
      "text/plain": [
       "Cell_type1 Cell_type2 Cell_type3 Cell_type4 \n",
       "0.37815933 0.50887979 0.09997843 0.01298244 "
      ]
     },
     "metadata": {},
     "output_type": "display_data"
    }
   ],
   "source": [
    "colSums(tca.mdl$W)/dim(tca.mdl$W)[1]"
   ]
  },
  {
   "cell_type": "markdown",
   "metadata": {},
   "source": [
    "The above $MXK$ table is the correlation between tca predicted $z^{i}_{hj}$ and the real value.<br/>\n",
    "Each $ELE_{hj}$ in the table is correlation between real $z_{hj} \\subseteq R^{N}$ and tca predicted value  $z_{hj} \\subseteq R^{N}$"
   ]
  },
  {
   "cell_type": "code",
   "execution_count": 203,
   "metadata": {},
   "outputs": [
    {
     "data": {
      "text/plain": [
       "\n",
       "\tPearson's product-moment correlation\n",
       "\n",
       "data:  tca.mdl$sigmas_hat and train_data[[\"SIGMA_Z\"]]\n",
       "t = 0.74354, df = 38, p-value = 0.4617\n",
       "alternative hypothesis: true correlation is not equal to 0\n",
       "95 percent confidence interval:\n",
       " -0.1991889  0.4157513\n",
       "sample estimates:\n",
       "      cor \n",
       "0.1197509 \n"
      ]
     },
     "metadata": {},
     "output_type": "display_data"
    }
   ],
   "source": [
    "cor.test(tca.mdl$sigmas_hat,train_data[['SIGMA_Z']])"
   ]
  },
  {
   "cell_type": "code",
   "execution_count": 204,
   "metadata": {},
   "outputs": [
    {
     "data": {
      "text/html": [
       "<table>\n",
       "<caption>A matrix: 10 × 4 of type dbl</caption>\n",
       "<tbody>\n",
       "\t<tr><td>0.9827177</td><td>0.9890665</td><td>0.9222846</td><td> 0.2481555800</td></tr>\n",
       "\t<tr><td>0.9780070</td><td>0.9861204</td><td>0.9191402</td><td> 0.1426478149</td></tr>\n",
       "\t<tr><td>0.9836049</td><td>0.9916022</td><td>0.8720735</td><td>-0.0005804779</td></tr>\n",
       "\t<tr><td>0.9689516</td><td>0.9895263</td><td>0.8970043</td><td> 0.1001337762</td></tr>\n",
       "\t<tr><td>0.9850551</td><td>0.9867198</td><td>0.8930724</td><td>-0.0024709921</td></tr>\n",
       "\t<tr><td>0.9793592</td><td>0.9864795</td><td>0.9039294</td><td> 0.0290540722</td></tr>\n",
       "\t<tr><td>0.9839140</td><td>0.9896388</td><td>0.9082814</td><td> 0.1459397122</td></tr>\n",
       "\t<tr><td>0.9735277</td><td>0.9864784</td><td>0.9235121</td><td>-0.0064327625</td></tr>\n",
       "\t<tr><td>0.9813457</td><td>0.9890656</td><td>0.8990125</td><td> 0.0737133954</td></tr>\n",
       "\t<tr><td>0.9837014</td><td>0.9918791</td><td>0.8870136</td><td> 0.0967320961</td></tr>\n",
       "</tbody>\n",
       "</table>\n"
      ],
      "text/latex": [
       "A matrix: 10 × 4 of type dbl\n",
       "\\begin{tabular}{llll}\n",
       "\t 0.9827177 & 0.9890665 & 0.9222846 &  0.2481555800\\\\\n",
       "\t 0.9780070 & 0.9861204 & 0.9191402 &  0.1426478149\\\\\n",
       "\t 0.9836049 & 0.9916022 & 0.8720735 & -0.0005804779\\\\\n",
       "\t 0.9689516 & 0.9895263 & 0.8970043 &  0.1001337762\\\\\n",
       "\t 0.9850551 & 0.9867198 & 0.8930724 & -0.0024709921\\\\\n",
       "\t 0.9793592 & 0.9864795 & 0.9039294 &  0.0290540722\\\\\n",
       "\t 0.9839140 & 0.9896388 & 0.9082814 &  0.1459397122\\\\\n",
       "\t 0.9735277 & 0.9864784 & 0.9235121 & -0.0064327625\\\\\n",
       "\t 0.9813457 & 0.9890656 & 0.8990125 &  0.0737133954\\\\\n",
       "\t 0.9837014 & 0.9918791 & 0.8870136 &  0.0967320961\\\\\n",
       "\\end{tabular}\n"
      ],
      "text/markdown": [
       "\n",
       "A matrix: 10 × 4 of type dbl\n",
       "\n",
       "| 0.9827177 | 0.9890665 | 0.9222846 |  0.2481555800 |\n",
       "| 0.9780070 | 0.9861204 | 0.9191402 |  0.1426478149 |\n",
       "| 0.9836049 | 0.9916022 | 0.8720735 | -0.0005804779 |\n",
       "| 0.9689516 | 0.9895263 | 0.8970043 |  0.1001337762 |\n",
       "| 0.9850551 | 0.9867198 | 0.8930724 | -0.0024709921 |\n",
       "| 0.9793592 | 0.9864795 | 0.9039294 |  0.0290540722 |\n",
       "| 0.9839140 | 0.9896388 | 0.9082814 |  0.1459397122 |\n",
       "| 0.9735277 | 0.9864784 | 0.9235121 | -0.0064327625 |\n",
       "| 0.9813457 | 0.9890656 | 0.8990125 |  0.0737133954 |\n",
       "| 0.9837014 | 0.9918791 | 0.8870136 |  0.0967320961 |\n",
       "\n"
      ],
      "text/plain": [
       "      [,1]      [,2]      [,3]      [,4]         \n",
       " [1,] 0.9827177 0.9890665 0.9222846  0.2481555800\n",
       " [2,] 0.9780070 0.9861204 0.9191402  0.1426478149\n",
       " [3,] 0.9836049 0.9916022 0.8720735 -0.0005804779\n",
       " [4,] 0.9689516 0.9895263 0.8970043  0.1001337762\n",
       " [5,] 0.9850551 0.9867198 0.8930724 -0.0024709921\n",
       " [6,] 0.9793592 0.9864795 0.9039294  0.0290540722\n",
       " [7,] 0.9839140 0.9896388 0.9082814  0.1459397122\n",
       " [8,] 0.9735277 0.9864784 0.9235121 -0.0064327625\n",
       " [9,] 0.9813457 0.9890656 0.8990125  0.0737133954\n",
       "[10,] 0.9837014 0.9918791 0.8870136  0.0967320961"
      ]
     },
     "metadata": {},
     "output_type": "display_data"
    }
   ],
   "source": [
    "beta_train = aperm(train_data[['beta']],c(3,1,2))\n",
    "gamma_p = array(tca.mdl$gammas_hat, dim = c(M, D, K))\n",
    "cor_gamma_beta = matrix(0,M,K)\n",
    "for (i in 1:M){\n",
    "    for (j in 1:K){\n",
    "        cor_gamma_beta[i,j] <- cor(beta_train[i,,j],gamma_p[i,,j])\n",
    "    }\n",
    "}\n",
    "cor_gamma_beta"
   ]
  },
  {
   "cell_type": "code",
   "execution_count": 205,
   "metadata": {},
   "outputs": [
    {
     "name": "stderr",
     "output_type": "stream",
     "text": [
      "Warning message in 1:dim(c_gamma):\n",
      "“numerical expression has 3 elements: only the first used”"
     ]
    },
    {
     "data": {
      "text/plain": [
       "\n",
       "\tPearson's product-moment correlation\n",
       "\n",
       "data:  p1 and train_Z\n",
       "t = 363.93, df = 140000, p-value < 2.2e-16\n",
       "alternative hypothesis: true correlation is not equal to 0\n",
       "95 percent confidence interval:\n",
       " 0.6945396 0.6999231\n",
       "sample estimates:\n",
       "      cor \n",
       "0.6972412 \n"
      ]
     },
     "metadata": {},
     "output_type": "display_data"
    },
    {
     "data": {
      "text/plain": [
       "\n",
       "\tPearson's product-moment correlation\n",
       "\n",
       "data:  p1 and train_Z\n",
       "t = 235.37, df = 140000, p-value < 2.2e-16\n",
       "alternative hypothesis: true correlation is not equal to 0\n",
       "95 percent confidence interval:\n",
       " 0.5286983 0.5362046\n",
       "sample estimates:\n",
       "      cor \n",
       "0.5324619 \n"
      ]
     },
     "metadata": {},
     "output_type": "display_data"
    }
   ],
   "source": [
    "c_gamma = array(0, c(dim(train_X)[1],K,M))\n",
    "for (i in 1:K) {\n",
    "   c_gamma[,i,] = train_X %*% t(gamma[,,i])\n",
    "}\n",
    "p1 = c_gamma+train_data[['MU']][1:dim(c_gamma),,]\n",
    "cor.test(p1,train_Z)\n",
    "\n",
    "p_mu = aperm(abind(lapply(1:dim(train_X)[1], function(x) tca.mdl$mus_hat), along = 3), c(3,2,1))\n",
    "p1 = c_gamma+p_mu\n",
    "cor.test(p1,train_Z)"
   ]
  },
  {
   "cell_type": "code",
   "execution_count": 206,
   "metadata": {},
   "outputs": [
    {
     "name": "stderr",
     "output_type": "stream",
     "text": [
      "Warning message in 1:dim(c_gamma_test):\n",
      "“numerical expression has 3 elements: only the first used”"
     ]
    },
    {
     "data": {
      "text/plain": [
       "\n",
       "\tPearson's product-moment correlation\n",
       "\n",
       "data:  p1 and test_Z\n",
       "t = 235.44, df = 59998, p-value < 2.2e-16\n",
       "alternative hypothesis: true correlation is not equal to 0\n",
       "95 percent confidence interval:\n",
       " 0.6888024 0.6971206\n",
       "sample estimates:\n",
       "      cor \n",
       "0.6929845 \n"
      ]
     },
     "metadata": {},
     "output_type": "display_data"
    },
    {
     "data": {
      "text/plain": [
       "\n",
       "\tPearson's product-moment correlation\n",
       "\n",
       "data:  p1 and test_Z\n",
       "t = 152.86, df = 59998, p-value < 2.2e-16\n",
       "alternative hypothesis: true correlation is not equal to 0\n",
       "95 percent confidence interval:\n",
       " 0.5236305 0.5351485\n",
       "sample estimates:\n",
       "      cor \n",
       "0.5294139 \n"
      ]
     },
     "metadata": {},
     "output_type": "display_data"
    }
   ],
   "source": [
    "c_gamma_test = array(0, c(dim(test_X)[1],K,M))\n",
    "for (i in 1:K) {\n",
    "   c_gamma_test[,i,] = test_X %*% t(gamma[,,i])\n",
    "}\n",
    "p1 = c_gamma_test+test_data[['MU']][1:dim(c_gamma_test),,]\n",
    "cor.test(p1,test_Z)\n",
    "\n",
    "p_mu = aperm(abind(lapply(1:dim(test_X)[1], function(x) tca.mdl$mus_hat), along = 3), c(3,2,1))\n",
    "p1 = c_gamma_test+p_mu\n",
    "cor.test(p1,test_Z)"
   ]
  },
  {
   "cell_type": "markdown",
   "metadata": {},
   "source": [
    "### iii. Lasso & correlation"
   ]
  },
  {
   "cell_type": "code",
   "execution_count": 207,
   "metadata": {},
   "outputs": [
    {
     "name": "stdout",
     "output_type": "stream",
     "text": [
      "gene expression  1  cell type:.. 1.. 2.. 3.. 4[1] \"\"\n",
      "gene expression  2  cell type:.. 1.. 2.. 3.. 4[1] \"\"\n",
      "gene expression  3  cell type:.. 1.. 2.. 3.. 4[1] \"\"\n",
      "gene expression  4  cell type:.. 1.. 2.. 3.. 4[1] \"\"\n",
      "gene expression  5  cell type:.. 1.. 2.. 3.. 4[1] \"\"\n",
      "gene expression  6  cell type:.. 1.. 2.. 3.. 4[1] \"\"\n",
      "gene expression  7  cell type:.. 1.. 2.. 3.. 4[1] \"\"\n",
      "gene expression  8  cell type:.. 1.. 2.. 3.. 4[1] \"\"\n",
      "gene expression  9  cell type:.. 1.. 2.. 3.. 4[1] \"\"\n",
      "gene expression  10  cell type:.. 1.. 2.. 3.. 4[1] \"\"\n"
     ]
    }
   ],
   "source": [
    "corrs.bulk <- numeric(nrow(train_G))\n",
    "corrs <- matrix(0,nrow(train_G),ncol(tca.mdl$W))\n",
    "corrs.real <- matrix(0,nrow(train_G),ncol(tca.mdl$W))\n",
    "corrs.beta <- matrix(0,nrow(train_G),ncol(tca.mdl$W))\n",
    "G.scaled <- scale(train_X,center=TRUE,scale=TRUE)\n",
    "\n",
    "corrs.test.bulk <- numeric(nrow(test_G))\n",
    "corrs.test <- matrix(0,nrow(test_G),ncol(tca.mdl$W))\n",
    "corrs.test.real <- matrix(0,nrow(test_G),ncol(tca.mdl$W))\n",
    "G.test.scaled <- scale(test_X,center=TRUE,scale=TRUE)\n",
    "\n",
    "ge_names = rownames(train_G)\n",
    "# loop through 10 gene expressions\n",
    "for (i in 1:nrow(train_G)){\n",
    "\n",
    "    # run bulk data regression first    \n",
    "    glmnet.mdl.X.cv <- cv.glmnet(x=G.scaled,y=train_G[i,],nfolds=5)\n",
    "    glmnet.mdl.X <- glmnet(x=G.scaled,y=train_G[i,],lambda=glmnet.mdl.X.cv$lambda.min)\n",
    "    beta.full.X <- as.numeric(glmnet.mdl.X$beta)\n",
    "    # extract non zero predictors and recorrelate\n",
    "    predictors.X <- colnames(G.scaled)[which(beta.full.X!=0)]\n",
    "    beta.X <- as.matrix(c(glmnet.mdl.X$a0,as.matrix(glmnet.mdl.X$beta[predictors.X,])))\n",
    "    bias_one <- numeric(nrow(G.scaled))+1\n",
    "    pred <- cbind(bias_one,G.scaled[,predictors.X]) %*% beta.X\n",
    "    corrs.bulk[i] <- cor.test(train_G[i,],pred)[['estimate']][['cor']]\n",
    "    pred.test <- cbind(numeric(nrow(G.test.scaled))+1,G.test.scaled[,predictors.X]) %*% beta.X\n",
    "    corrs.test.bulk[i] <- cor.test(test_G[i,],pred.test)[['estimate']][['cor']]\n",
    "    cat('gene expression ',i,' cell type:')\n",
    "\n",
    "    ge_name <- ge_names[i]\n",
    "    tca.mdl.ge <- tcasub(tca.mdl,ge_name,log_file=NULL,verbose=FALSE)\n",
    "    Z_hat <- tensor(t(train_G[i,]),tca.mdl.ge,log_file=NULL,verbose=FALSE)\n",
    "    #Z_hat.test <- tensor(t(test_G[i,]),tca.mdl.ge,log_file=NULL,verbose=FALSE)\n",
    "    # cell type specific\n",
    "    for (h in 1:ncol(tca.mdl$W)){\n",
    "        cat('..',h)\n",
    "        celltype <- colnames(tca.mdl$W)[h]\n",
    "        glmnet.mdl.cv <- cv.glmnet(x=G.scaled,y=Z_hat[[h]],standardize=FALSE,alpha=1,nfolds=5)\n",
    "        glmnet.mdl <- glmnet(x=G.scaled,y=Z_hat[[h]],standardize=FALSE,alpha=1,lambda=glmnet.mdl.cv$lambda.min)\n",
    "        beta.full <- as.numeric(glmnet.mdl$beta)\n",
    "        predictors <- colnames(G.scaled)[which(beta.full != 0)]\n",
    "        beta <- as.matrix(c(glmnet.mdl$a0,as.matrix(glmnet.mdl$beta[predictors,])))\n",
    "        Z_hat.h.pred <- cbind(numeric(nrow(G.scaled))+1,G.scaled[,predictors]) %*% beta\n",
    "        corrs[i,h] <- cor(t(Z_hat[[h]]),Z_hat.h.pred)\n",
    "        corrs.real[i,h] <- cor(train_Z[,h,i],Z_hat.h.pred)\n",
    "        corrs.beta[i,h] <- cor(train_data[['beta']][,h,i],beta.full)\n",
    "        \n",
    "        Z_hat.h.test.pred <- cbind(numeric(nrow(G.test.scaled))+1,G.test.scaled[,predictors]) %*% beta\n",
    "        #corrs.test[i,h] <- cor(Z_hat.test[,h,i],Z_hat.h.test.pred)\n",
    "        corrs.test.real[i,h] <- cor(test_Z[,h,i],Z_hat.h.test.pred)\n",
    "    }\n",
    "    print('')\n",
    "}"
   ]
  },
  {
   "cell_type": "code",
   "execution_count": 208,
   "metadata": {},
   "outputs": [
    {
     "data": {
      "text/html": [
       "<ol class=list-inline>\n",
       "\t<li>0.405947094775413</li>\n",
       "\t<li>0.365965262609215</li>\n",
       "\t<li>0.383587385215091</li>\n",
       "\t<li>0.486196061430833</li>\n",
       "\t<li>0.542939427598351</li>\n",
       "\t<li>0.466890247526731</li>\n",
       "\t<li>0.394616509833186</li>\n",
       "\t<li>0.415451267714935</li>\n",
       "\t<li>0.573187421484972</li>\n",
       "\t<li>0.532960024300532</li>\n",
       "</ol>\n"
      ],
      "text/latex": [
       "\\begin{enumerate*}\n",
       "\\item 0.405947094775413\n",
       "\\item 0.365965262609215\n",
       "\\item 0.383587385215091\n",
       "\\item 0.486196061430833\n",
       "\\item 0.542939427598351\n",
       "\\item 0.466890247526731\n",
       "\\item 0.394616509833186\n",
       "\\item 0.415451267714935\n",
       "\\item 0.573187421484972\n",
       "\\item 0.532960024300532\n",
       "\\end{enumerate*}\n"
      ],
      "text/markdown": [
       "1. 0.405947094775413\n",
       "2. 0.365965262609215\n",
       "3. 0.383587385215091\n",
       "4. 0.486196061430833\n",
       "5. 0.542939427598351\n",
       "6. 0.466890247526731\n",
       "7. 0.394616509833186\n",
       "8. 0.415451267714935\n",
       "9. 0.573187421484972\n",
       "10. 0.532960024300532\n",
       "\n",
       "\n"
      ],
      "text/plain": [
       " [1] 0.4059471 0.3659653 0.3835874 0.4861961 0.5429394 0.4668902 0.3946165\n",
       " [8] 0.4154513 0.5731874 0.5329600"
      ]
     },
     "metadata": {},
     "output_type": "display_data"
    },
    {
     "data": {
      "text/html": [
       "<ol class=list-inline>\n",
       "\t<li>0.319528811686246</li>\n",
       "\t<li>0.259288696848173</li>\n",
       "\t<li>0.262312870035525</li>\n",
       "\t<li>0.375717933922902</li>\n",
       "\t<li>0.443409526755626</li>\n",
       "\t<li>0.386206252506782</li>\n",
       "\t<li>0.251202728839345</li>\n",
       "\t<li>0.369101288531092</li>\n",
       "\t<li>0.471834373468261</li>\n",
       "\t<li>0.438575756529746</li>\n",
       "</ol>\n"
      ],
      "text/latex": [
       "\\begin{enumerate*}\n",
       "\\item 0.319528811686246\n",
       "\\item 0.259288696848173\n",
       "\\item 0.262312870035525\n",
       "\\item 0.375717933922902\n",
       "\\item 0.443409526755626\n",
       "\\item 0.386206252506782\n",
       "\\item 0.251202728839345\n",
       "\\item 0.369101288531092\n",
       "\\item 0.471834373468261\n",
       "\\item 0.438575756529746\n",
       "\\end{enumerate*}\n"
      ],
      "text/markdown": [
       "1. 0.319528811686246\n",
       "2. 0.259288696848173\n",
       "3. 0.262312870035525\n",
       "4. 0.375717933922902\n",
       "5. 0.443409526755626\n",
       "6. 0.386206252506782\n",
       "7. 0.251202728839345\n",
       "8. 0.369101288531092\n",
       "9. 0.471834373468261\n",
       "10. 0.438575756529746\n",
       "\n",
       "\n"
      ],
      "text/plain": [
       " [1] 0.3195288 0.2592887 0.2623129 0.3757179 0.4434095 0.3862063 0.2512027\n",
       " [8] 0.3691013 0.4718344 0.4385758"
      ]
     },
     "metadata": {},
     "output_type": "display_data"
    }
   ],
   "source": [
    "corrs.bulk\n",
    "corrs.test.bulk"
   ]
  },
  {
   "cell_type": "markdown",
   "metadata": {},
   "source": [
    "For each Gene Expression, fit a lasso model from SNPs to bulk level mixed GE. Final predictions are made\n",
    "with the none-zero lasso predictors. The above vector is correlation between lasso's predicion and real value. <br/> The uppe rine being train statistics, lowerline test statistics"
   ]
  },
  {
   "cell_type": "code",
   "execution_count": 209,
   "metadata": {},
   "outputs": [
    {
     "data": {
      "text/html": [
       "<table>\n",
       "<caption>A matrix: 10 × 4 of type dbl</caption>\n",
       "<tbody>\n",
       "\t<tr><td>0.9453641</td><td>0.9612620</td><td>0.9070996</td><td>0.211916736</td></tr>\n",
       "\t<tr><td>0.9179348</td><td>0.9415840</td><td>0.9013875</td><td>0.140598356</td></tr>\n",
       "\t<tr><td>0.9193619</td><td>0.9008419</td><td>0.8403678</td><td>0.019771155</td></tr>\n",
       "\t<tr><td>0.9026811</td><td>0.9157163</td><td>0.8767548</td><td>0.107094699</td></tr>\n",
       "\t<tr><td>0.9245241</td><td>0.9118108</td><td>0.8712207</td><td>0.007210433</td></tr>\n",
       "\t<tr><td>0.9368232</td><td>0.9428232</td><td>0.8671899</td><td>0.044628295</td></tr>\n",
       "\t<tr><td>0.9318626</td><td>0.9463059</td><td>0.8840634</td><td>0.151823202</td></tr>\n",
       "\t<tr><td>0.8982425</td><td>0.9151180</td><td>0.9099859</td><td>0.004055627</td></tr>\n",
       "\t<tr><td>0.9422043</td><td>0.9627611</td><td>0.8768885</td><td>0.078692776</td></tr>\n",
       "\t<tr><td>0.9397827</td><td>0.9632895</td><td>0.8577969</td><td>0.100069338</td></tr>\n",
       "</tbody>\n",
       "</table>\n"
      ],
      "text/latex": [
       "A matrix: 10 × 4 of type dbl\n",
       "\\begin{tabular}{llll}\n",
       "\t 0.9453641 & 0.9612620 & 0.9070996 & 0.211916736\\\\\n",
       "\t 0.9179348 & 0.9415840 & 0.9013875 & 0.140598356\\\\\n",
       "\t 0.9193619 & 0.9008419 & 0.8403678 & 0.019771155\\\\\n",
       "\t 0.9026811 & 0.9157163 & 0.8767548 & 0.107094699\\\\\n",
       "\t 0.9245241 & 0.9118108 & 0.8712207 & 0.007210433\\\\\n",
       "\t 0.9368232 & 0.9428232 & 0.8671899 & 0.044628295\\\\\n",
       "\t 0.9318626 & 0.9463059 & 0.8840634 & 0.151823202\\\\\n",
       "\t 0.8982425 & 0.9151180 & 0.9099859 & 0.004055627\\\\\n",
       "\t 0.9422043 & 0.9627611 & 0.8768885 & 0.078692776\\\\\n",
       "\t 0.9397827 & 0.9632895 & 0.8577969 & 0.100069338\\\\\n",
       "\\end{tabular}\n"
      ],
      "text/markdown": [
       "\n",
       "A matrix: 10 × 4 of type dbl\n",
       "\n",
       "| 0.9453641 | 0.9612620 | 0.9070996 | 0.211916736 |\n",
       "| 0.9179348 | 0.9415840 | 0.9013875 | 0.140598356 |\n",
       "| 0.9193619 | 0.9008419 | 0.8403678 | 0.019771155 |\n",
       "| 0.9026811 | 0.9157163 | 0.8767548 | 0.107094699 |\n",
       "| 0.9245241 | 0.9118108 | 0.8712207 | 0.007210433 |\n",
       "| 0.9368232 | 0.9428232 | 0.8671899 | 0.044628295 |\n",
       "| 0.9318626 | 0.9463059 | 0.8840634 | 0.151823202 |\n",
       "| 0.8982425 | 0.9151180 | 0.9099859 | 0.004055627 |\n",
       "| 0.9422043 | 0.9627611 | 0.8768885 | 0.078692776 |\n",
       "| 0.9397827 | 0.9632895 | 0.8577969 | 0.100069338 |\n",
       "\n"
      ],
      "text/plain": [
       "      [,1]      [,2]      [,3]      [,4]       \n",
       " [1,] 0.9453641 0.9612620 0.9070996 0.211916736\n",
       " [2,] 0.9179348 0.9415840 0.9013875 0.140598356\n",
       " [3,] 0.9193619 0.9008419 0.8403678 0.019771155\n",
       " [4,] 0.9026811 0.9157163 0.8767548 0.107094699\n",
       " [5,] 0.9245241 0.9118108 0.8712207 0.007210433\n",
       " [6,] 0.9368232 0.9428232 0.8671899 0.044628295\n",
       " [7,] 0.9318626 0.9463059 0.8840634 0.151823202\n",
       " [8,] 0.8982425 0.9151180 0.9099859 0.004055627\n",
       " [9,] 0.9422043 0.9627611 0.8768885 0.078692776\n",
       "[10,] 0.9397827 0.9632895 0.8577969 0.100069338"
      ]
     },
     "metadata": {},
     "output_type": "display_data"
    }
   ],
   "source": [
    "corrs.real\n",
    "#corrs.test.real"
   ]
  },
  {
   "cell_type": "markdown",
   "metadata": {},
   "source": [
    "The above $MXK$ table is the correlation between lasso predicted $z^{i}_{hj}$ and the real value.<br/>\n",
    "Prediction is made with none-zero effect size estimators. Each $ELE_{hj}$ in the table is correlation\n",
    "between real $z_{hj} \\subseteq R^{N}$ and lasso predicted value $z_{hj} \\subseteq R^{N}$. NA occurs when\n",
    "lasso prediction has almost-zero variance\n",
    "<br/> The uppe rine being train statistics, lowerline test statistics"
   ]
  },
  {
   "cell_type": "code",
   "execution_count": 210,
   "metadata": {},
   "outputs": [
    {
     "data": {
      "text/html": [
       "<table>\n",
       "<caption>A matrix: 10 × 4 of type dbl</caption>\n",
       "<tbody>\n",
       "\t<tr><td>0.9746481</td><td>0.9806891</td><td>0.9211536</td><td> 0.247710540</td></tr>\n",
       "\t<tr><td>0.9559923</td><td>0.9700569</td><td>0.9197128</td><td> 0.143900746</td></tr>\n",
       "\t<tr><td>0.9340943</td><td>0.9137575</td><td>0.8655679</td><td>-0.001816845</td></tr>\n",
       "\t<tr><td>0.9290723</td><td>0.9341807</td><td>0.8940879</td><td> 0.100036535</td></tr>\n",
       "\t<tr><td>0.9524584</td><td>0.9375970</td><td>0.8913610</td><td>-0.004330933</td></tr>\n",
       "\t<tr><td>0.9655738</td><td>0.9677115</td><td>0.9036112</td><td> 0.031672880</td></tr>\n",
       "\t<tr><td>0.9598441</td><td>0.9648873</td><td>0.9056257</td><td> 0.144359043</td></tr>\n",
       "\t<tr><td>0.9352416</td><td>0.9444519</td><td>0.9225054</td><td>-0.006015329</td></tr>\n",
       "\t<tr><td>0.9709010</td><td>0.9795497</td><td>0.8962832</td><td> 0.072365966</td></tr>\n",
       "\t<tr><td>0.9717284</td><td>0.9822356</td><td>0.8835417</td><td> 0.092661759</td></tr>\n",
       "</tbody>\n",
       "</table>\n"
      ],
      "text/latex": [
       "A matrix: 10 × 4 of type dbl\n",
       "\\begin{tabular}{llll}\n",
       "\t 0.9746481 & 0.9806891 & 0.9211536 &  0.247710540\\\\\n",
       "\t 0.9559923 & 0.9700569 & 0.9197128 &  0.143900746\\\\\n",
       "\t 0.9340943 & 0.9137575 & 0.8655679 & -0.001816845\\\\\n",
       "\t 0.9290723 & 0.9341807 & 0.8940879 &  0.100036535\\\\\n",
       "\t 0.9524584 & 0.9375970 & 0.8913610 & -0.004330933\\\\\n",
       "\t 0.9655738 & 0.9677115 & 0.9036112 &  0.031672880\\\\\n",
       "\t 0.9598441 & 0.9648873 & 0.9056257 &  0.144359043\\\\\n",
       "\t 0.9352416 & 0.9444519 & 0.9225054 & -0.006015329\\\\\n",
       "\t 0.9709010 & 0.9795497 & 0.8962832 &  0.072365966\\\\\n",
       "\t 0.9717284 & 0.9822356 & 0.8835417 &  0.092661759\\\\\n",
       "\\end{tabular}\n"
      ],
      "text/markdown": [
       "\n",
       "A matrix: 10 × 4 of type dbl\n",
       "\n",
       "| 0.9746481 | 0.9806891 | 0.9211536 |  0.247710540 |\n",
       "| 0.9559923 | 0.9700569 | 0.9197128 |  0.143900746 |\n",
       "| 0.9340943 | 0.9137575 | 0.8655679 | -0.001816845 |\n",
       "| 0.9290723 | 0.9341807 | 0.8940879 |  0.100036535 |\n",
       "| 0.9524584 | 0.9375970 | 0.8913610 | -0.004330933 |\n",
       "| 0.9655738 | 0.9677115 | 0.9036112 |  0.031672880 |\n",
       "| 0.9598441 | 0.9648873 | 0.9056257 |  0.144359043 |\n",
       "| 0.9352416 | 0.9444519 | 0.9225054 | -0.006015329 |\n",
       "| 0.9709010 | 0.9795497 | 0.8962832 |  0.072365966 |\n",
       "| 0.9717284 | 0.9822356 | 0.8835417 |  0.092661759 |\n",
       "\n"
      ],
      "text/plain": [
       "      [,1]      [,2]      [,3]      [,4]        \n",
       " [1,] 0.9746481 0.9806891 0.9211536  0.247710540\n",
       " [2,] 0.9559923 0.9700569 0.9197128  0.143900746\n",
       " [3,] 0.9340943 0.9137575 0.8655679 -0.001816845\n",
       " [4,] 0.9290723 0.9341807 0.8940879  0.100036535\n",
       " [5,] 0.9524584 0.9375970 0.8913610 -0.004330933\n",
       " [6,] 0.9655738 0.9677115 0.9036112  0.031672880\n",
       " [7,] 0.9598441 0.9648873 0.9056257  0.144359043\n",
       " [8,] 0.9352416 0.9444519 0.9225054 -0.006015329\n",
       " [9,] 0.9709010 0.9795497 0.8962832  0.072365966\n",
       "[10,] 0.9717284 0.9822356 0.8835417  0.092661759"
      ]
     },
     "metadata": {},
     "output_type": "display_data"
    }
   ],
   "source": [
    "corrs.beta"
   ]
  },
  {
   "cell_type": "markdown",
   "metadata": {},
   "source": [
    "The above $MXK$ table is the correlation between lasso effect-size $\\beta$ and the real $\\beta$.<br/>\n",
    "Each $ELE_{hj}$ in the table is correlation between real $\\beta_{hj}$ and lasso predicted value. NA occurs when\n",
    "lasso prediction has almost-zero variance"
   ]
  }
 ],
 "metadata": {
  "kernelspec": {
   "display_name": "R",
   "language": "R",
   "name": "ir"
  },
  "language_info": {
   "codemirror_mode": "r",
   "file_extension": ".r",
   "mimetype": "text/x-r-source",
   "name": "R",
   "pygments_lexer": "r",
   "version": "3.4.4"
  }
 },
 "nbformat": 4,
 "nbformat_minor": 2
}
