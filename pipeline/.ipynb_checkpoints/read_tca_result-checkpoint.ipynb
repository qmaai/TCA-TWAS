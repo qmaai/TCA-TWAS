{
 "cells": [
  {
   "cell_type": "code",
   "execution_count": 1,
   "metadata": {
    "scrolled": false
   },
   "outputs": [
    {
     "name": "stderr",
     "output_type": "stream",
     "text": [
      "Loading required package: Matrix\n",
      "Loading required package: foreach\n",
      "Loaded glmnet 2.0-18\n",
      "\n"
     ]
    },
    {
     "ename": "ERROR",
     "evalue": "Error in make_option(\"--z_path\", type = \"character\", help = \"TCA prediction file path for a chunk of genes\", : could not find function \"make_option\"\n",
     "output_type": "error",
     "traceback": [
      "Error in make_option(\"--z_path\", type = \"character\", help = \"TCA prediction file path for a chunk of genes\", : could not find function \"make_option\"\nTraceback:\n"
     ]
    }
   ],
   "source": [
    "library(\"glmnet\")\n",
    "lasso_on_one_gene <- function(Z,SNPs,cell_names){\n",
    "    glmnet.cv = lapply(1:length(cell_names),function(x) cv.glmnet(x=SNPs,y=t(Z[x,]),nfold=5))\n",
    "    betas = lapply(1:length(cell_names),function(x) as.matrix(t(coef(glmnet.cv[[x]],s=\"lambda.min\"))))\n",
    "    betas = as.data.frame(do.call(rbind, betas))\n",
    "    rownames(betas) = cell_names\n",
    "    return(betas)\n",
    "}\n",
    "\n",
    "# each gene has its own SNPs. So do lasso separately\n",
    "main <- function(opt){\n",
    "    load(opt$z_path)\n",
    "    load(opt$mdl_path)\n",
    "    num_of_gene = length(z_result)\n",
    "    beta_chunk = lapply(1:num_of_gene,function(x) lasso_on_one_gene(z_result[[x]],\n",
    "                                                       model_result[[x]]$C1,\n",
    "                                                       colnames(model_result[[x]]$mus_hat)))\n",
    "    \n",
    "    if(opt$output_path!='NULL'){\n",
    "        dir.create(opt$output_path,showWarnings = FALSE)\n",
    "        opt$end = opt$start + num_of_gene\n",
    "        if(opt$start==0){\n",
    "            matches = unlist(regmatches(path, gregexpr(\"[[:digit:]]+\", path)))\n",
    "            opt$start = matches[1]\n",
    "            opt$end = matches[2]\n",
    "        }\n",
    "        save(beta_chunk,file=paste(opt$output_path,'lasso_beta',opt$start,'_',opt$end,'.RData'))\n",
    "    }\n",
    "}\n",
    "\n",
    "option_list = list(\n",
    "    make_option(\"--z_path\", type=\"character\", \n",
    "              help=\"TCA prediction file path for a chunk of genes\", metavar=\"character\"),\n",
    "    make_option(\"--mdl_path\",type=\"character\",\n",
    "               help=\"TCA model file path for a chunk of genes\",metavar=\"character\"),\n",
    "    make_option(\"--start\", type=\"integer\",default=0, \n",
    "              help=\"first gene in the chunk's order\", metavar=\"character\"),\n",
    "    make_option(\"--output_path\",type=\"character\",\n",
    "                default=\"/u/home/q/qmaai/project-sriram/tca-twas/data/tca_result/lasso_result/\",\n",
    "               help='lasso output save position',metavar=\"character\")\n",
    ");\n",
    "\n",
    "opt_parser = OptionParser(option_list=option_list);\n",
    "opt = parse_args(opt_parser);\n",
    "\n",
    "if (!interactive()){\n",
    "    main(opt);\n",
    "}"
   ]
  }
 ],
 "metadata": {
  "kernelspec": {
   "display_name": "R",
   "language": "R",
   "name": "ir"
  },
  "language_info": {
   "codemirror_mode": "r",
   "file_extension": ".r",
   "mimetype": "text/x-r-source",
   "name": "R",
   "pygments_lexer": "r",
   "version": "3.4.4"
  }
 },
 "nbformat": 4,
 "nbformat_minor": 2
}
